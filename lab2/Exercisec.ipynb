{
 "cells": [
  {
   "cell_type": "markdown",
   "metadata": {},
   "source": [
    "# Classification"
   ]
  },
  {
   "cell_type": "markdown",
   "metadata": {},
   "source": [
    "This exercise consists of three parts. Finish the first part to get a mark of 3.0; the first two parts for 4.0. Complete all three parts to get 5.0."
   ]
  },
  {
   "cell_type": "code",
   "execution_count": 2,
   "metadata": {
    "jupyter": {
     "outputs_hidden": true
    }
   },
   "outputs": [],
   "source": [
    "import common as cm\n",
    "import numpy as np\n",
    "import matplotlib.pyplot as plt"
   ]
  },
  {
   "cell_type": "markdown",
   "metadata": {},
   "source": [
    "# Part 1: Naive Bayes for binary data"
   ]
  },
  {
   "cell_type": "markdown",
   "metadata": {},
   "source": [
    "1.1 ) Given are the following objects (data) characterized with 4 binary attributes:"
   ]
  },
  {
   "cell_type": "code",
   "execution_count": 7,
   "metadata": {
    "jupyter": {
     "outputs_hidden": true
    }
   },
   "outputs": [],
   "source": [
    "data = [\n",
    "[1, 0, 1, 1],\n",
    "[0, 1, 0, 0],\n",
    "[0, 1, 1, 1],\n",
    "[1, 0, 1, 0],\n",
    "[1, 0, 0, 1],\n",
    "[0, 0, 1, 1],\n",
    "[1, 1, 1, 1],\n",
    "[1, 0, 0, 1],\n",
    "[0, 1, 0, 1],\n",
    "[0, 0, 0, 1],\n",
    "]"
   ]
  },
  {
   "cell_type": "markdown",
   "metadata": {},
   "source": [
    "1.2) Each object is assigned to a class \"0\" or \"1\". The assignements are as follows (cl):"
   ]
  },
  {
   "cell_type": "code",
   "execution_count": 4,
   "metadata": {
    "jupyter": {
     "outputs_hidden": true
    }
   },
   "outputs": [],
   "source": [
    "cl = [1, 0, 1, 0, 0, 1, 1, 0, 1, 0]"
   ]
  },
  {
   "cell_type": "markdown",
   "metadata": {},
   "source": [
    "1.3) When do you think an object is assigned to class \"1\"?"
   ]
  },
  {
   "cell_type": "markdown",
   "metadata": {},
   "source": [
    "1.4) Build a naive Bayes classifier. For this reason, complete the following function. This function should return a vector [p0, p1], where p0 and p1 are propabilities that an input object (obj) belongs to, respectively, class \"0\" and \"1\". In case if any $P(x = 0\\text{ or }1|CL = 0\\text{ or }1) = 0$, replace it with $0.01$. Remember that the sum of p0 and p1 should be equal to 1 (you can do that by normalizing p0 and p1 by dividing them by their sum)."
   ]
  },
  {
   "cell_type": "code",
   "execution_count": 9,
   "metadata": {},
   "outputs": [],
   "source": [
    "def findProbability(a, item, cl, pcl):\n",
    "    itemCount = a.count(item)\n",
    "    x=0\n",
    "    for k in range(len(a)):\n",
    "        if (a[k] == item and cl[k] == pcl):\n",
    "            x+=1\n",
    "    if (x/itemCount) == 0:\n",
    "        return 0.01\n",
    "    else:\n",
    "        return x/itemCount"
   ]
  },
  {
   "cell_type": "code",
   "execution_count": 8,
   "metadata": {
    "jupyter": {
     "outputs_hidden": true
    }
   },
   "outputs": [
    {
     "data": {
      "text/plain": [
       "[0.8780487804878049, 0.12195121951219513]"
      ]
     },
     "execution_count": 8,
     "metadata": {},
     "output_type": "execute_result"
    }
   ],
   "source": [
    "def getNaiveBayesProbabilities(obj, data, cl):\n",
    "    p = [0.0, 0.0]\n",
    "    PCI_1 = cl.count(1)/len(cl)\n",
    "    PCI_2 = cl.count(0)/len(cl)\n",
    "    p0 = p1 = 0\n",
    "    for i in range(len(obj)):\n",
    "        A=[]\n",
    "        for m in range(len(data)):\n",
    "            A.append(data[m][i])\n",
    "        PCI_1 *= findProbability(A, obj[i], cl, 0)\n",
    "        PCI_2 *= findProbability(A, obj[i], cl, 1)\n",
    "    x = PCI_1 / (PCI_1 + PCI_2)\n",
    "    y = PCI_2 / (PCI_1 + PCI_2)\n",
    "    p[0] += x\n",
    "    p[1] += y\n",
    "    return p\n",
    "\n",
    "getNaiveBayesProbabilities([1,0,0,1], data, cl)"
   ]
  },
  {
   "cell_type": "markdown",
   "metadata": {},
   "source": [
    "1.6) Find objects which give a maximum probability for class \"0\" and \"1\". "
   ]
  },
  {
   "cell_type": "code",
   "execution_count": 12,
   "metadata": {},
   "outputs": [],
   "source": [
    "def vectorGenerator(n):\n",
    "    VECTORS = [[0,0,0,0]]\n",
    "    x=(2**n) - 1\n",
    "    for i in range(x,0,-1):\n",
    "        k = bin(i)[2:]\n",
    "        while len(k) != n:\n",
    "            k = '0' + k   \n",
    "        vec = [int(i) for i in k]\n",
    "        VECTORS.append(vec)\n",
    "    return VECTORS"
   ]
  },
  {
   "cell_type": "code",
   "execution_count": 11,
   "metadata": {},
   "outputs": [
    {
     "name": "stdout",
     "output_type": "stream",
     "text": [
      "[1, 0, 0, 0]\n",
      "[0.9991673605328891, 0.000832639467110741]\n",
      "[0, 1, 1, 1]\n",
      "[0.03225806451612904, 0.9677419354838709]\n"
     ]
    }
   ],
   "source": [
    "max0 = -1\n",
    "max0Vector = max1Vector = []\n",
    "max1 = -1\n",
    "VECTORS = vectorGenerator(len(data[0]))\n",
    "for i in VECTORS:\n",
    "    x = getNaiveBayesProbabilities(i, data, cl)\n",
    "    if x[0] > max0:\n",
    "        max0 = x[0]\n",
    "        max0Vector = i\n",
    "    if x[1] > max1:\n",
    "        max1 = x[1]\n",
    "        max1Vector = i\n",
    "print(max0Vector)\n",
    "print(getNaiveBayesProbabilities(max0Vector, data, cl))\n",
    "print(max1Vector)\n",
    "print(getNaiveBayesProbabilities(max1Vector, data, cl))"
   ]
  },
  {
   "cell_type": "markdown",
   "metadata": {},
   "source": [
    "## Part 2: k-NN algorithm"
   ]
  },
  {
   "cell_type": "markdown",
   "metadata": {},
   "source": [
    "2.1) In common.py, there is defined a Euclidean distance function (cm.getEuclideanDistance(A, B)): "
   ]
  },
  {
   "cell_type": "code",
   "execution_count": 6,
   "metadata": {
    "jupyter": {
     "outputs_hidden": true
    }
   },
   "outputs": [
    {
     "name": "stdout",
     "output_type": "stream",
     "text": [
      "1.0\n",
      "1.4142135623730951\n"
     ]
    }
   ],
   "source": [
    "#TEST\n",
    "print(cm.getEuclideanDistance([0.0, 0.0], [0.0, 1.0]))\n",
    "print(cm.getEuclideanDistance([0.0, 0.0], [1.0, 1.0]))"
   ]
  },
  {
   "cell_type": "markdown",
   "metadata": {},
   "source": [
    "2.2) Get test data set & display:<br>\n",
    "- data = matrix n x m, n = the number of objects, m = the number of attributes<br>\n",
    "- classified objects: [[list of objects (indices) being assigned to the fist class],[... to the second class],...,[... to the last class]]; note that the classes do not impose any preference order\n",
    "- list of objects (indices) being not classified\n",
    "\n",
    "IMPORTANT: plot $\\rightarrow$ black squares represent non classified objects"
   ]
  },
  {
   "cell_type": "code",
   "execution_count": 10,
   "metadata": {
    "jupyter": {
     "outputs_hidden": true
    }
   },
   "outputs": [
    {
     "data": {
      "image/png": "[encoded data removed]",
      "text/plain": [
       "<Figure size 500x500 with 1 Axes>"
      ]
     },
     "metadata": {
      "needs_background": "light"
     },
     "output_type": "display_data"
    }
   ],
   "source": [
    "DATA = cm.getTestDataSet()\n",
    "CLASSIFIED = cm.getTestClassified()\n",
    "NOT_CLASSIFIED = cm.getTestNotClassified()\n",
    "cm.displayDataSet(plt, DATA, CLASSIFIED, NOT_CLASSIFIED) #plt = plot package; see the imports above\n",
    "\n",
    "### CLASS 1 = BLUE\n",
    "### CLASS 2 = GREEN\n",
    "### CLASS 3 = RED\n",
    "### CLASS 4 = CYAN"
   ]
  },
  {
   "cell_type": "markdown",
   "metadata": {},
   "source": [
    "2.3) k-NN implementation: Complete the below function. Use the \"non-weighted\" variant of k-NN.  "
   ]
  },
  {
   "cell_type": "code",
   "execution_count": null,
   "metadata": {
    "collapsed": true,
    "jupyter": {
     "outputs_hidden": true
    }
   },
   "outputs": [],
   "source": [
    "def doKNN(K, DATA, CLASSIFIED, NOT_CLASSIFIED):\n",
    "    ### COPY INPUT CLASSIFIED OBJECTS \n",
    "    ### WHEN CLASSIFYING \"NOT_CLASSIFIED\" OBJECTS, UPDATE CL \n",
    "    CL = CLASSIFIED.copy()\n",
    "    ### For each index in NOT_CLASSIFIED, store here its corresponding (computed) class (in this exercise = 0, 1, or 2)\n",
    "    ### Compute class base on only CLASSIFIED data\n",
    "    ### One way to find the k-nearest object is sort all of object by distance and take top k elements\n",
    "    UPDATE = []\n",
    "    for IDX in NOT_CLASSIFIED:\n",
    "    # TODO\n",
    "    \n",
    "    ################\n",
    "    return CL\n",
    "        \n",
    "NEW_CLASSIFIED = doKNN(2, DATA, CLASSIFIED, NOT_CLASSIFIED)\n",
    "cm.displayDataSet(plt, DATA, NEW_CLASSIFIED)"
   ]
  },
  {
   "cell_type": "markdown",
   "metadata": {},
   "source": [
    "# Part 3 - performance evaluation"
   ]
  },
  {
   "cell_type": "markdown",
   "metadata": {},
   "source": [
    "3.1) You are asked to evaluate the performance of k-NN (weighted variant) for different K. Firstly, run the below piece of code and analyze the data. Which class do you think is the most difficult/easiest to describe/characterize?"
   ]
  },
  {
   "cell_type": "code",
   "execution_count": 13,
   "metadata": {
    "jupyter": {
     "outputs_hidden": true
    }
   },
   "outputs": [
    {
     "ename": "NameError",
     "evalue": "name 'cm' is not defined",
     "output_type": "error",
     "traceback": [
      "\u001b[0;31m---------------------------------------------------------------------------\u001b[0m",
      "\u001b[0;31mNameError\u001b[0m                                 Traceback (most recent call last)",
      "\u001b[0;32m<ipython-input-13-cdf08604f00b>\u001b[0m in \u001b[0;36m<module>\u001b[0;34m\u001b[0m\n\u001b[0;32m----> 1\u001b[0;31m \u001b[0mDATA_2\u001b[0m \u001b[0;34m=\u001b[0m \u001b[0mcm\u001b[0m\u001b[0;34m.\u001b[0m\u001b[0mgetTest2DataSet\u001b[0m\u001b[0;34m(\u001b[0m\u001b[0;34m)\u001b[0m\u001b[0;34m\u001b[0m\u001b[0;34m\u001b[0m\u001b[0m\n\u001b[0m\u001b[1;32m      2\u001b[0m \u001b[0mCLASSIFIED_2\u001b[0m \u001b[0;34m=\u001b[0m \u001b[0mcm\u001b[0m\u001b[0;34m.\u001b[0m\u001b[0mgetTest2Classified\u001b[0m\u001b[0;34m(\u001b[0m\u001b[0;34m)\u001b[0m\u001b[0;34m\u001b[0m\u001b[0;34m\u001b[0m\u001b[0m\n\u001b[1;32m      3\u001b[0m \u001b[0mcm\u001b[0m\u001b[0;34m.\u001b[0m\u001b[0mdisplayDataSet\u001b[0m\u001b[0;34m(\u001b[0m\u001b[0mplt\u001b[0m\u001b[0;34m,\u001b[0m \u001b[0mDATA_2\u001b[0m\u001b[0;34m,\u001b[0m \u001b[0mCLASSIFIED_2\u001b[0m\u001b[0;34m)\u001b[0m\u001b[0;34m\u001b[0m\u001b[0;34m\u001b[0m\u001b[0m\n\u001b[1;32m      4\u001b[0m \u001b[0;34m\u001b[0m\u001b[0m\n\u001b[1;32m      5\u001b[0m \u001b[0;31m### CLASS 1 = BLUE\u001b[0m\u001b[0;34m\u001b[0m\u001b[0;34m\u001b[0m\u001b[0;34m\u001b[0m\u001b[0m\n",
      "\u001b[0;31mNameError\u001b[0m: name 'cm' is not defined"
     ]
    }
   ],
   "source": [
    "DATA_2 = cm.getTest2DataSet()\n",
    "CLASSIFIED_2 = cm.getTest2Classified()\n",
    "cm.displayDataSet(plt, DATA_2, CLASSIFIED_2)\n",
    "\n",
    "### CLASS 1 = BLUE\n",
    "### CLASS 2 = GREEN\n",
    "### CLASS 3 = RED"
   ]
  },
  {
   "cell_type": "markdown",
   "metadata": {},
   "source": [
    "3.2) To evaluate the performance of k-NN, you can check how well it predicts classes for new (not known previously) objects. For this reason, assume that you \"do not know\" the true class assignments for some random subset of objects from the data set. Firstly, you can generate some permutation of indices from 0 to 249 (one per object):"
   ]
  },
  {
   "cell_type": "code",
   "execution_count": 12,
   "metadata": {
    "jupyter": {
     "outputs_hidden": true
    }
   },
   "outputs": [],
   "source": [
    "idxs = [i for i in range(250)]\n",
    "np.random.shuffle(idxs)"
   ]
  },
  {
   "cell_type": "markdown",
   "metadata": {},
   "source": [
    "Then, the below piece of code constructs temporary variables CLASSIFIED_TRAIN and NOT_CLASSIFIED_TEST. CLASSIFIED_TRAIN contains information on assignements for the first 50% random objects determined by \"idxs\", while NOT_CLASSIFIED_TEST contains the remianing \"not classified\" object indices. Run the code below and observe that 50% of some uniformly distributed data points are not classified. "
   ]
  },
  {
   "cell_type": "code",
   "execution_count": 13,
   "metadata": {
    "jupyter": {
     "outputs_hidden": true
    }
   },
   "outputs": [
    {
     "data": {
      "image/png": "[encoded data removed]",
      "text/plain": [
       "<Figure size 500x500 with 1 Axes>"
      ]
     },
     "metadata": {
      "needs_background": "light"
     },
     "output_type": "display_data"
    }
   ],
   "source": [
    "CLASSIFIED_TRAIN = [[], [], []]\n",
    "NOT_CLASSIFIED_TEST = []\n",
    "LIM = int(len(DATA_2) * 0.5)\n",
    "for i in range(LIM):\n",
    "    if idxs[i] < 50: CLASSIFIED_TRAIN[0].append(idxs[i])\n",
    "    elif idxs[i] < 150: CLASSIFIED_TRAIN[1].append(idxs[i])\n",
    "    else: CLASSIFIED_TRAIN[2].append(idxs[i])\n",
    "for i in range(LIM, 250):\n",
    "    NOT_CLASSIFIED_TEST.append(idxs[i])\n",
    "cm.displayDataSet(plt, DATA_2, CLASSIFIED_TRAIN, NOT_CLASSIFIED_TEST)"
   ]
  },
  {
   "cell_type": "markdown",
   "metadata": {},
   "source": [
    "3.3) Evaluate the performance of the weighted variant of k-NN for K = 1,3,5,7 and CLASSIFIED_TRAIN, NOT_CLASSIFIED_TEST data sets. For each K:<br>\n",
    "- for each class, compute how many times an object has been correctly/incorrectly classified. E.g., if 10 objects are associated with the first class \"BLUE\" but k-NN classified correctly only 4 of them, the result is 4 (or 6 in case of incorrect assignments stat);<br>\n",
    "- for each class, compute recall (number of correct assignments / total number of expected assignments, e.g., if 10 objects are associated with the first class \"BLUE\"  but k-NN classified correctly only 4 of them, recall for the first class is 40%);<br>  \n",
    "\n",
    "Which class got the best/the worst recall. Why?\n",
    "What is the best K. Are there any significant differences?\n",
    "You can use cm.displayCompareDataSet(plt, DATA_2, CLASSIFIED_2, CL) to check (display) which solutions were classified incorrectly. These are marked with squares. The background of these squares is appropriately selected according to the true (expected) assignment. "
   ]
  },
  {
   "cell_type": "code",
   "execution_count": null,
   "metadata": {
    "collapsed": true,
    "jupyter": {
     "outputs_hidden": true
    }
   },
   "outputs": [],
   "source": [
    "### CLASS 1 = BLUE\n",
    "### CLASS 2 = GREEN\n",
    "### CLASS 3 = RED\n",
    "\n",
    "for K in [1,3,5,7]:\n",
    "    CL = doKNN(K, DATA_2, CLASSIFIED_TRAIN, NOT_CLASSIFIED_TEST)\n",
    "    print(K)\n",
    "    CORRECTLY = [0,0,0]\n",
    "    INCORRECTLY = [0,0,0]\n",
    "    RECALL = [0,0,0]\n",
    "    \n",
    "    #TODO\n",
    "            \n",
    "    ### PRINT STATS\n",
    "    print(CORRECTLY)\n",
    "    print(INCORRECTLY)\n",
    "    print(RECALL)\n",
    "    ### DISPLAY\n",
    "    cm.displayCompareDataSet(plt, DATA_2, CLASSIFIED_2, CL)      "
   ]
  },
  {
   "cell_type": "code",
   "execution_count": null,
   "metadata": {
    "collapsed": true,
    "jupyter": {
     "outputs_hidden": true
    }
   },
   "outputs": [],
   "source": []
  },
  {
   "cell_type": "code",
   "execution_count": null,
   "metadata": {
    "collapsed": true,
    "jupyter": {
     "outputs_hidden": true
    }
   },
   "outputs": [],
   "source": []
  }
 ],
 "metadata": {
  "kernelspec": {
   "display_name": "Python 3",
   "language": "python",
   "name": "python3"
  },
  "language_info": {
   "codemirror_mode": {
    "name": "ipython",
    "version": 3
   },
   "file_extension": ".py",
   "mimetype": "text/x-python",
   "name": "python",
   "nbconvert_exporter": "python",
   "pygments_lexer": "ipython3",
   "version": "3.6.8"
  }
 },
 "nbformat": 4,
 "nbformat_minor": 4
}
