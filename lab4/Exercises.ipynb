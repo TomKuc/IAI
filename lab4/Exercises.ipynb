{
 "cells": [
  {
   "cell_type": "markdown",
   "metadata": {},
   "source": [
    "# Shortest Hamiltonian path problem"
   ]
  },
  {
   "cell_type": "markdown",
   "metadata": {},
   "source": [
    "Shortest Hamiltonian path problem is a little bit simpler version of the problem __Travelling Salesman Problem (TSP)__ \n",
    "where we are not looking for a __cycle__ passing through all the nodes (cities) and we are satisfied with the shortest __path__ connecting all cities. We don't have to go back to the start city."
   ]
  },
  {
   "cell_type": "markdown",
   "metadata": {},
   "source": [
    "There are N cities. Given is a distance matrix M=NxN, where $M[i][j]$ is a distance from the i-th to the j-th city.\n",
    "In this exercise, we consider a symmetrical variant of shortest Hamiltonian path problem, i.e., $M[i][j] = M[j][i]$. Furhermore, $M[i][i] = 0$.\n",
    "The objective is to find the __shortest path traversing through each city once__. In other words: <br> Let s=[3,1,...,5] be some N-element permutation of indices. We want to find such a permutation that $\\sum_{k=2,...,N}M[s[k-1]][s[k]]$ is optimal (minimal)."
   ]
  },
  {
   "cell_type": "markdown",
   "metadata": {},
   "source": [
    "This exercise consists of three parts. Finish the first part to get a mark of 3.0; the first two parts for 4.0. Complete all three parts to get 5.0."
   ]
  },
  {
   "cell_type": "markdown",
   "metadata": {},
   "source": [
    "# Part 1: Evolutionary algorithm"
   ]
  },
  {
   "cell_type": "code",
   "execution_count": 75,
   "metadata": {},
   "outputs": [],
   "source": [
    "import common as cm\n",
    "import numpy as np\n",
    "import matplotlib.pyplot as plt\n",
    "import random \n",
    "%matplotlib inline"
   ]
  },
  {
   "cell_type": "markdown",
   "metadata": {},
   "source": [
    "### 1.1) Evaluation"
   ]
  },
  {
   "cell_type": "markdown",
   "metadata": {},
   "source": [
    "Complete the below function. It should evaluate an input solution (decision vector, vector of indices) in terms of TSP distance criterion. M is a distance matrix. Return the computed total distance."
   ]
  },
  {
   "cell_type": "code",
   "execution_count": 76,
   "metadata": {},
   "outputs": [
    {
     "name": "stdout",
     "output_type": "stream",
     "text": [
      "174.32598574155733\n",
      "174.32598574155733\n",
      "328.20779166053677\n"
     ]
    }
   ],
   "source": [
    "def getEvaluation(solution, M):\n",
    "    distance = 0\n",
    "    for i in range(1,len(solution)):\n",
    "        distance += M[solution[i-1]][solution[i]]\n",
    "    return distance\n",
    "\n",
    "M = cm.getTutorialDistanceMatrix() ### 6 CITIES\n",
    "print(getEvaluation([0,1,2,3,4,5], M)) \n",
    "print(getEvaluation([5,4,3,2,1,0], M))\n",
    "print(getEvaluation([0,2,1,3,5,4], M))"
   ]
  },
  {
   "cell_type": "markdown",
   "metadata": {},
   "source": [
    "### 1.2) Validation"
   ]
  },
  {
   "cell_type": "markdown",
   "metadata": {},
   "source": [
    "This function can be used to validate the solution, i.e., to check if a given solution vector is of a proper size and to check if each element is unique."
   ]
  },
  {
   "cell_type": "code",
   "execution_count": 77,
   "metadata": {},
   "outputs": [
    {
     "name": "stdout",
     "output_type": "stream",
     "text": [
      "False\n",
      "True\n",
      "False\n",
      "False\n"
     ]
    }
   ],
   "source": [
    "def isValid(solution, cities):\n",
    "    if len(solution) != cities: return False\n",
    "    s = set(solution)\n",
    "    e = set([i for i in range(cities)])\n",
    "    if s==e: return True\n",
    "    else: return False\n",
    "    \n",
    "print(isValid([0,1,2,3,4,5,6], 6)) # FALSE\n",
    "print(isValid([0,1,2,3,4,5], 6)) # TRUE\n",
    "print(isValid([0,1,2,3,4,5,5], 6)) # FALSE\n",
    "print(isValid([0,1,1,2,3,2], 6)) # FALSE"
   ]
  },
  {
   "cell_type": "markdown",
   "metadata": {},
   "source": [
    "### 1.3) Initialization"
   ]
  },
  {
   "cell_type": "markdown",
   "metadata": {},
   "source": [
    "We need to create a population of solutions. These solutions - initially - can be generated randomly. \n",
    "Firstly, complete getRandomSolution function (cities = the number of cities considered in the TSP problem).\n",
    "It should generate a random permutation of [0,1,...,cities] vector. You can use np.random.shuffle function. Then, \n",
    "finish getInitialPopulation method. It should return a populationSize-element vector of pairs [distance, solution], where a solution is a random permutation of indices, and distance = the total distance (solution evaluation). "
   ]
  },
  {
   "cell_type": "code",
   "execution_count": 78,
   "metadata": {},
   "outputs": [
    {
     "name": "stdout",
     "output_type": "stream",
     "text": [
      "215.04779014215256 : [2, 3, 1, 4, 5, 0]\n",
      "290.82968172607934 : [4, 0, 3, 2, 1, 5]\n",
      "237.12483642459398 : [0, 1, 2, 4, 5, 3]\n",
      "336.6549173655857 : [3, 1, 0, 5, 2, 4]\n",
      "278.12287476681854 : [4, 5, 1, 0, 3, 2]\n",
      "285.20090211122 : [2, 1, 0, 3, 5, 4]\n",
      "413.56684828884613 : [4, 2, 0, 3, 1, 5]\n",
      "229.7376786041448 : [2, 3, 1, 0, 4, 5]\n",
      "276.71910211349706 : [4, 0, 1, 5, 2, 3]\n",
      "203.6104095833221 : [2, 1, 4, 3, 5, 0]\n"
     ]
    }
   ],
   "source": [
    "def getRandomSolution(cities):\n",
    "    s = []\n",
    "    for i in range(cities):\n",
    "        s.append(i)\n",
    "    np.random.shuffle(s)\n",
    "    return s\n",
    "\n",
    "def getInitialPopulation(populationSize, cities, M):\n",
    "    population = []\n",
    "    for i in range(populationSize):\n",
    "        s = getRandomSolution(cities)\n",
    "        ev = getEvaluation(s, M)\n",
    "        population.append([ev,s])\n",
    "    return population\n",
    "\n",
    "def printPopulation(population):\n",
    "    for s in population:\n",
    "        print(str(s[0]) + \" : \" + str(s[1]))\n",
    "\n",
    "population = getInitialPopulation(10, 6, M)\n",
    "printPopulation(population)"
   ]
  },
  {
   "cell_type": "markdown",
   "metadata": {},
   "source": [
    "### 1.4) Sort population"
   ]
  },
  {
   "cell_type": "markdown",
   "metadata": {},
   "source": [
    "The below function should sort the population according to the distance, i.e., according to the first element of each pair. These should be ordered from the smallest to the largest.You can use .sort method and a lambda function."
   ]
  },
  {
   "cell_type": "code",
   "execution_count": 79,
   "metadata": {},
   "outputs": [
    {
     "name": "stdout",
     "output_type": "stream",
     "text": [
      "203.6104095833221 : [2, 1, 4, 3, 5, 0]\n",
      "215.04779014215256 : [2, 3, 1, 4, 5, 0]\n",
      "229.7376786041448 : [2, 3, 1, 0, 4, 5]\n",
      "237.12483642459398 : [0, 1, 2, 4, 5, 3]\n",
      "276.71910211349706 : [4, 0, 1, 5, 2, 3]\n",
      "278.12287476681854 : [4, 5, 1, 0, 3, 2]\n",
      "285.20090211122 : [2, 1, 0, 3, 5, 4]\n",
      "290.82968172607934 : [4, 0, 3, 2, 1, 5]\n",
      "336.6549173655857 : [3, 1, 0, 5, 2, 4]\n",
      "413.56684828884613 : [4, 2, 0, 3, 1, 5]\n"
     ]
    }
   ],
   "source": [
    "def sortPopulation(population):\n",
    "    population.sort(key = lambda x:x[0])\n",
    "\n",
    "sortPopulation(population)\n",
    "printPopulation(population)"
   ]
  },
  {
   "cell_type": "markdown",
   "metadata": {},
   "source": [
    "### 1.5) Summarize the population"
   ]
  },
  {
   "cell_type": "markdown",
   "metadata": {},
   "source": [
    "The below function should compute minimum, mean, and maximum value of the total distances of solutions in the population. Return these statistics as [min, mean, max] vector. "
   ]
  },
  {
   "cell_type": "code",
   "execution_count": 80,
   "metadata": {},
   "outputs": [
    {
     "name": "stdout",
     "output_type": "stream",
     "text": [
      "[203.6104095833221, 276.66150411262595, 413.56684828884613]\n"
     ]
    }
   ],
   "source": [
    "def getStats(population):\n",
    "    mini = min(sub[0] for sub in population)\n",
    "    maxi = max(sub[0] for sub in population)\n",
    "    mean = np.mean([sub[0] for sub in population])\n",
    "    return [mini, mean, maxi]\n",
    "\n",
    "print(getStats(population))"
   ]
  },
  {
   "cell_type": "markdown",
   "metadata": {},
   "source": [
    "### 1.6) Tournament selection of size K"
   ]
  },
  {
   "cell_type": "markdown",
   "metadata": {},
   "source": [
    "You are asked to implement a tournament for parent selection (it is assumed that the population is already sorted). Firstly, complete getTournamentSelection method. It should return index corresponding to selected parent solution. Simply generate random permutation of integers from [0,...,populationSize], take K first elements and select the smallest index (as the solutions are ordered from the best to the worst). Repeat this process twice and return a vector [index1, index2]. Then, complete getMatingPool method. Usually, matingPoolSize = population size, i.e., we wish to generate an offspring population of size populationSize and thus we need to select such many pairs of parent solutions. This metod should return a vector of these pairs, e.g., [[2, 5], [9, 2], ..., [5, 7]]. "
   ]
  },
  {
   "cell_type": "code",
   "execution_count": 113,
   "metadata": {},
   "outputs": [
    {
     "name": "stdout",
     "output_type": "stream",
     "text": [
      "[[5, 2], [6, 7], [7, 1], [5, 2], [0, 7], [0, 0], [2, 2], [8, 0], [3, 3], [2, 4]]\n"
     ]
    }
   ],
   "source": [
    "def getTournamentSelection(populationSize, size):\n",
    "    parent = 0\n",
    "    tournament = np.random.choice(populationSize, size)\n",
    "    parent = min(tournament)\n",
    "    return parent\n",
    "\n",
    "def getParentIndices(populationSize, K):\n",
    "    parents = []\n",
    "    for i in range(2):\n",
    "        parents.append(getTournamentSelection(populationSize, size=K))\n",
    "    return parents\n",
    "    \n",
    "def getMatingPool(matingPoolSize, populationSize, K):\n",
    "    matingPool = []\n",
    "    for i in range(matingPoolSize):\n",
    "        tmp = getParentIndices(populationSize, K)\n",
    "        matingPool.append(tmp)\n",
    "    return matingPool\n",
    "     \n",
    "matingPool = getMatingPool(10, 10, 2)\n",
    "print(matingPool)"
   ]
  },
  {
   "cell_type": "markdown",
   "metadata": {},
   "source": [
    "How does the selection depend on K? Run the below code for different K and verify your thoughts. "
   ]
  },
  {
   "cell_type": "code",
   "execution_count": 82,
   "metadata": {},
   "outputs": [
    {
     "data": {
      "image/png": "[encoded data removed]",
      "text/plain": [
       "<Figure size 432x288 with 1 Axes>"
      ]
     },
     "metadata": {
      "needs_background": "light"
     },
     "output_type": "display_data"
    },
    {
     "data": {
      "image/png": "[encoded data removed]",
      "text/plain": [
       "<Figure size 432x288 with 1 Axes>"
      ]
     },
     "metadata": {
      "needs_background": "light"
     },
     "output_type": "display_data"
    },
    {
     "data": {
      "image/png": "[encoded data removed]",
      "text/plain": [
       "<Figure size 432x288 with 1 Axes>"
      ]
     },
     "metadata": {
      "needs_background": "light"
     },
     "output_type": "display_data"
    },
    {
     "data": {
      "image/png": "[encoded data removed]",
      "text/plain": [
       "<Figure size 432x288 with 1 Axes>"
      ]
     },
     "metadata": {
      "needs_background": "light"
     },
     "output_type": "display_data"
    }
   ],
   "source": [
    "def testTournament(matingPoolSize, populationSize, K):\n",
    "    testMatingPool = getMatingPool(matingPoolSize, populationSize, K)\n",
    "    cm.displayHistogram(plt, np, testMatingPool, populationSize)\n",
    "    \n",
    "testTournament(10000, 10, 1)\n",
    "testTournament(10000, 10, 2)\n",
    "testTournament(10000, 10, 3)\n",
    "testTournament(10000, 10, 5)"
   ]
  },
  {
   "cell_type": "markdown",
   "metadata": {},
   "source": [
    "### 1.7) Crossover operator"
   ]
  },
  {
   "cell_type": "markdown",
   "metadata": {},
   "source": [
    "Now, you are asked to implement the crossover operator. A and B are solutions (decision vectors). Let child be a new offspring solution (decision vector) and N is the number of cities.  Assume that the first N/2 elements of the child vector = the first N/2 elements of A, while the last N/2 elements of the child vector = the last N/2 elements of B. Obviously, such constructed solution may not be valid (use isValid) method. Repair this. You can, e.g., check (i) which indices are duplicated and (ii) which indices are missing. Then, you can replace one copy of each duplicate with one random missing index. "
   ]
  },
  {
   "cell_type": "code",
   "execution_count": 83,
   "metadata": {},
   "outputs": [
    {
     "name": "stdout",
     "output_type": "stream",
     "text": [
      "[0, 1, 5, 3, 2, 4]\n"
     ]
    }
   ],
   "source": [
    "def getCrossedOver(A, B):\n",
    "    N = len(A)\n",
    "    child = A[:N//2] + B[N//2:]\n",
    "    \n",
    "    if isValid(child, N): return child\n",
    "    \n",
    "    duplicated = set()\n",
    "    missing = set(range(N))\n",
    "    \n",
    "    for el in child:\n",
    "        if el in missing:\n",
    "            missing.remove(el)\n",
    "        else:\n",
    "            duplicated.add(el)\n",
    "            \n",
    "    for i in range(N):\n",
    "        if child[i] in duplicated:\n",
    "            duplicated.remove(child[i])\n",
    "            new_value = random.choice(list(missing))\n",
    "            child[i] = new_value\n",
    "            missing.remove(new_value)\n",
    "    \n",
    "    if not isValid(child, N): print(\"CROSSOVER ERROR!\")\n",
    "    return child\n",
    "\n",
    "### TEST\n",
    "print(getCrossedOver([0,1,2,3,4,5],[0,1,3,4,2,4]))"
   ]
  },
  {
   "cell_type": "markdown",
   "metadata": {},
   "source": [
    "### 1.8) Mutation operator"
   ]
  },
  {
   "cell_type": "markdown",
   "metadata": {},
   "source": [
    "Implement the mutation operator. Simply swap two different random cities (indices). Apply this mutation with a certain probability (input argument)."
   ]
  },
  {
   "cell_type": "code",
   "execution_count": 84,
   "metadata": {},
   "outputs": [
    {
     "name": "stdout",
     "output_type": "stream",
     "text": [
      "[0, 1, 2, 3, 4, 5]\n",
      "[0, 5, 2, 3, 4, 1]\n",
      "[0, 1, 2, 3, 4, 5]\n",
      "[0, 1, 2, 5, 4, 3]\n",
      "[0, 2, 1, 3, 4, 5]\n",
      "[0, 5, 2, 3, 4, 1]\n",
      "[0, 2, 1, 3, 4, 5]\n",
      "[0, 5, 2, 3, 4, 1]\n",
      "[0, 1, 3, 2, 4, 5]\n",
      "[0, 4, 2, 3, 1, 5]\n"
     ]
    }
   ],
   "source": [
    "def mutate(solution, probability):\n",
    "    if np.random.random() < probability:\n",
    "        N = len(solution)\n",
    "        indices = random.sample(list(range(N)), 2)\n",
    "        A, B = indices[0], indices[1]\n",
    "        solution[A], solution[B] = solution[B], solution[A]\n",
    "            \n",
    "for i in range(10):\n",
    "    s= [0,1,2,3,4,5] \n",
    "    mutate(s, 0.9)\n",
    "    print(s)"
   ]
  },
  {
   "cell_type": "markdown",
   "metadata": {},
   "source": [
    "### 1.9) Create offspring"
   ]
  },
  {
   "cell_type": "markdown",
   "metadata": {},
   "source": [
    "Now, combine both operators. The below method should generate the offspring. For each pair of parent indices in matingPool, i.e., [index1, index2], take the corresponding solutions from the population and apply the crossover and mutation operators in order to generate a single offspring/child. Evaluate this solution, i.e., compute the total distance. Finally, add [distance, child] to children vector.   "
   ]
  },
  {
   "cell_type": "code",
   "execution_count": 85,
   "metadata": {},
   "outputs": [],
   "source": [
    "def getOffspring(population, matingPool, mutationProbability, M):\n",
    "    children = []\n",
    "    for parents in matingPool:\n",
    "        parent1 = population[parents[0]][1]\n",
    "        parent2 = population[parents[1]][1]\n",
    "        child = getCrossedOver(parent1, parent2)\n",
    "        mutate(child, mutationProbability)\n",
    "        evaluation = getEvaluation(child, M)\n",
    "        children.append([evaluation, child])\n",
    "    return children"
   ]
  },
  {
   "cell_type": "markdown",
   "metadata": {},
   "source": [
    "### 1.10) Evolutionary Algorithm"
   ]
  },
  {
   "cell_type": "markdown",
   "metadata": {},
   "source": [
    "Now, you are asked to combine all the previously completed methods into an evolutionary algorithm. This is the outline of the algorithm: <br>\n",
    "1) Create an initial population of size \"populationSize\" <br>\n",
    "2) Sort the population <br>\n",
    "3) Construct a mating pool <br>\n",
    "4) Generate an offspring of size \"populationSize\" <br>\n",
    "5) Merge the current population and the offspring <br>\n",
    "6) Sort such merged population <br>\n",
    "7) Remove the worst half of the population or a better approach is to use tournament selection (run populationSize times) <br>\n",
    "8) Go to (2) until the stopping criterion is not meet (repeat for the assumed number of generations) <br>\n",
    "\n",
    "In each generation, compute & display the statistics concerning the current population. Finally, what is the best solution found by the method? Rerun the method for different parameters (e.g., population size) and check if you can improve the result."
   ]
  },
  {
   "cell_type": "code",
   "execution_count": 127,
   "metadata": {},
   "outputs": [
    {
     "name": "stdout",
     "output_type": "stream",
     "text": [
      "Generation 1: min - 182.6433789654611, mean - 225.25673485240054, max - 258.1490366077585\n",
      "Generation 2: min - 182.6433789654611, mean - 213.1948055780505, max - 220.86460823616773\n",
      "Generation 3: min - 182.6433789654611, mean - 200.07789158670622, max - 219.39372681970076\n",
      "Generation 4: min - 182.6433789654611, mean - 188.31227126016066, max - 198.43815293956163\n",
      "Generation 5: min - 168.71883981362282, mean - 178.46601721990962, max - 182.6433789654611\n",
      "Generation 6: min - 168.71883981362282, mean - 171.5037476439905, max - 182.6433789654611\n",
      "Generation 7: min - 168.71883981362282, mean - 168.7188398136228, max - 168.71883981362282\n",
      "Generation 8: min - 168.71883981362282, mean - 168.7188398136228, max - 168.71883981362282\n",
      "Generation 9: min - 168.71883981362282, mean - 168.7188398136228, max - 168.71883981362282\n",
      "Generation 10: min - 168.71883981362282, mean - 168.7188398136228, max - 168.71883981362282\n",
      "Generation 11: min - 168.71883981362282, mean - 168.7188398136228, max - 168.71883981362282\n",
      "Generation 12: min - 168.71883981362282, mean - 168.7188398136228, max - 168.71883981362282\n",
      "Generation 13: min - 168.71883981362282, mean - 168.7188398136228, max - 168.71883981362282\n",
      "Generation 14: min - 168.71883981362282, mean - 168.7188398136228, max - 168.71883981362282\n",
      "Generation 15: min - 168.71883981362282, mean - 168.7188398136228, max - 168.71883981362282\n",
      "Generation 16: min - 168.71883981362282, mean - 168.7188398136228, max - 168.71883981362282\n",
      "Generation 17: min - 168.71883981362282, mean - 168.7188398136228, max - 168.71883981362282\n",
      "Generation 18: min - 168.71883981362282, mean - 168.7188398136228, max - 168.71883981362282\n",
      "Generation 19: min - 168.71883981362282, mean - 168.7188398136228, max - 168.71883981362282\n",
      "Generation 20: min - 168.71883981362282, mean - 168.7188398136228, max - 168.71883981362282\n",
      "Generation 21: min - 168.71883981362282, mean - 168.7188398136228, max - 168.71883981362282\n",
      "Generation 22: min - 168.71883981362282, mean - 168.7188398136228, max - 168.71883981362282\n",
      "Generation 23: min - 168.71883981362282, mean - 168.7188398136228, max - 168.71883981362282\n",
      "Generation 24: min - 168.71883981362282, mean - 168.7188398136228, max - 168.71883981362282\n",
      "Generation 25: min - 168.71883981362282, mean - 168.7188398136228, max - 168.71883981362282\n",
      "Generation 26: min - 168.71883981362282, mean - 168.7188398136228, max - 168.71883981362282\n",
      "Generation 27: min - 168.71883981362282, mean - 168.7188398136228, max - 168.71883981362282\n",
      "Generation 28: min - 168.71883981362282, mean - 168.7188398136228, max - 168.71883981362282\n",
      "Generation 29: min - 168.71883981362282, mean - 168.7188398136228, max - 168.71883981362282\n",
      "Generation 30: min - 168.71883981362282, mean - 168.7188398136228, max - 168.71883981362282\n",
      "Generation 31: min - 168.71883981362282, mean - 168.7188398136228, max - 168.71883981362282\n",
      "Generation 32: min - 168.71883981362282, mean - 168.7188398136228, max - 168.71883981362282\n",
      "Generation 33: min - 168.71883981362282, mean - 168.7188398136228, max - 168.71883981362282\n",
      "Generation 34: min - 168.71883981362282, mean - 168.7188398136228, max - 168.71883981362282\n",
      "Generation 35: min - 168.71883981362282, mean - 168.7188398136228, max - 168.71883981362282\n",
      "Generation 36: min - 168.71883981362282, mean - 168.7188398136228, max - 168.71883981362282\n",
      "Generation 37: min - 168.71883981362282, mean - 168.7188398136228, max - 168.71883981362282\n",
      "Generation 38: min - 168.71883981362282, mean - 168.7188398136228, max - 168.71883981362282\n",
      "Generation 39: min - 168.71883981362282, mean - 168.7188398136228, max - 168.71883981362282\n",
      "Generation 40: min - 168.71883981362282, mean - 168.7188398136228, max - 168.71883981362282\n",
      "Generation 41: min - 168.71883981362282, mean - 168.7188398136228, max - 168.71883981362282\n",
      "Generation 42: min - 168.71883981362282, mean - 168.7188398136228, max - 168.71883981362282\n",
      "Generation 43: min - 168.71883981362282, mean - 168.7188398136228, max - 168.71883981362282\n",
      "Generation 44: min - 168.71883981362282, mean - 168.7188398136228, max - 168.71883981362282\n",
      "Generation 45: min - 168.71883981362282, mean - 168.7188398136228, max - 168.71883981362282\n",
      "Generation 46: min - 168.71883981362282, mean - 168.7188398136228, max - 168.71883981362282\n",
      "Generation 47: min - 168.71883981362282, mean - 168.7188398136228, max - 168.71883981362282\n",
      "Generation 48: min - 168.71883981362282, mean - 168.7188398136228, max - 168.71883981362282\n",
      "Generation 49: min - 168.71883981362282, mean - 168.7188398136228, max - 168.71883981362282\n",
      "Generation 50: min - 168.71883981362282, mean - 168.7188398136228, max - 168.71883981362282\n"
     ]
    }
   ],
   "source": [
    "###\n",
    "costMatrix = cm.getTutorialDistanceMatrix() ### 6 CITIES\n",
    "cities = 6\n",
    "mutationProbability = 3.0/6.0\n",
    "populationSize = 20\n",
    "generations = 50\n",
    "\n",
    "population = getInitialPopulation(populationSize, cities, costMatrix)\n",
    "sortPopulation(population)\n",
    "\n",
    "for g in range(generations):\n",
    "    matingPool = getMatingPool(populationSize, populationSize, 2)\n",
    "    offspring = getOffspring(population, matingPool, mutationProbability, costMatrix)\n",
    "    population += offspring\n",
    "    sortPopulation(population)\n",
    "    new_population = []\n",
    "    for _ in range(populationSize):\n",
    "        new_population.append(population[getTournamentSelection(populationSize, 2)])\n",
    "    population = new_population\n",
    "    sortPopulation(population)\n",
    "    minimum, mean, maximum = getStats(population)\n",
    "    print(\"Generation {}: min - {}, mean - {}, max - {}\".format(g+1, minimum, mean, maximum))"
   ]
  },
  {
   "cell_type": "markdown",
   "metadata": {},
   "source": [
    "# Part 2: Visualization of convergence"
   ]
  },
  {
   "cell_type": "markdown",
   "metadata": {},
   "source": [
    "2.1) Now, change the data set (distance matrix) to cm.getLargeDistanceMatrix. This instance concerns 15 cities. Run the evolutionary algorithm with a population size of 20 and the number of generation of 200 (and suitably adjust the mutation probability - 1.0/15.0). In each generation, store the statistics (min, mean, and max distances found, in, respectively, Y_MIN, Y_MEAN, Y_MAX). Then, use cm.plotConvergence(plt, X, Y_MIN, Y_MEAN, Y_MAX) to display the convergence plot. Rerun the code for different parameters and observe the results. What is the best value (distance) you could find (print)?"
   ]
  },
  {
   "cell_type": "code",
   "execution_count": 128,
   "metadata": {},
   "outputs": [
    {
     "name": "stdout",
     "output_type": "stream",
     "text": [
      "312.59247363860425\n"
     ]
    },
    {
     "data": {
      "image/png": "[encoded data removed]",
      "text/plain": [
       "<Figure size 432x288 with 1 Axes>"
      ]
     },
     "metadata": {
      "needs_background": "light"
     },
     "output_type": "display_data"
    }
   ],
   "source": [
    "distanceMatrix = cm.getLargeDistanceMatrix() ### 15 CITIES\n",
    "cities = 15\n",
    "mutationProbability = 1.0/15.0\n",
    "populationSize = 20\n",
    "generations = 200\n",
    "Y_MIN = []\n",
    "Y_MEAN = []\n",
    "Y_MAX = []\n",
    "X = range(generations)\n",
    "\n",
    "population = getInitialPopulation(populationSize, cities, distanceMatrix)\n",
    "sortPopulation(population)\n",
    "\n",
    "for g in range(generations):\n",
    "    matingPool = getMatingPool(populationSize, populationSize, 2)\n",
    "    offspring = getOffspring(population, matingPool, mutationProbability, distanceMatrix)\n",
    "    population += offspring\n",
    "    sortPopulation(population)\n",
    "    new_population = []\n",
    "    for _ in range(populationSize):\n",
    "        new_population.append(population[getTournamentSelection(populationSize, 2)])\n",
    "    population = new_population\n",
    "    sortPopulation(population)\n",
    "    \n",
    "    minimum, mean, maximum = getStats(population)\n",
    "    Y_MIN.append(minimum)\n",
    "    Y_MEAN.append(mean)\n",
    "    Y_MAX.append(maximum)\n",
    "\n",
    "cm.plotConvergence(plt, X, Y_MIN, Y_MEAN, Y_MAX)\n",
    "print(Y_MIN[-1])"
   ]
  },
  {
   "cell_type": "markdown",
   "metadata": {},
   "source": [
    "2.2) Each time you rerun the code, while keeping the paramet values fixed, the results my slightly change. This is due to the random nature of evolutionary algorithms. Hence, in order to get the reliable results, the method must be run several times and the results have to be averaged. Do the following:<br>\n",
    "- run the method 20 times <br>\n",
    "- in each run: capture the best result found  throughout evolutionary search (i.e., in each generation) <br>\n",
    "- for each generation: find min, mean, and max value over 20 independent runs <br>\n",
    "- use cm.plotConvergence to display the convergence\n",
    "- print the best value ever found "
   ]
  },
  {
   "cell_type": "code",
   "execution_count": 141,
   "metadata": {},
   "outputs": [
    {
     "name": "stdout",
     "output_type": "stream",
     "text": [
      "RUN 1 BEST RESULT: 368.2595557721902\n",
      "RUN 2 BEST RESULT: 309.01180070191356\n",
      "RUN 3 BEST RESULT: 375.2492790229448\n",
      "RUN 4 BEST RESULT: 352.49487800568437\n",
      "RUN 5 BEST RESULT: 345.38596477138225\n",
      "RUN 6 BEST RESULT: 352.6695131892716\n",
      "RUN 7 BEST RESULT: 368.4323351536944\n",
      "RUN 8 BEST RESULT: 369.73581269453155\n",
      "RUN 9 BEST RESULT: 356.9702531698781\n",
      "RUN 10 BEST RESULT: 418.03505642435306\n",
      "RUN 11 BEST RESULT: 398.8493629709931\n",
      "RUN 12 BEST RESULT: 372.9225696540018\n",
      "RUN 13 BEST RESULT: 380.6093776350314\n",
      "RUN 14 BEST RESULT: 363.58136264512643\n",
      "RUN 15 BEST RESULT: 388.2230286583571\n",
      "RUN 16 BEST RESULT: 407.5428792464572\n",
      "RUN 17 BEST RESULT: 368.8162337097165\n",
      "RUN 18 BEST RESULT: 355.44691073869865\n",
      "RUN 19 BEST RESULT: 342.3618368131237\n",
      "RUN 20 BEST RESULT: 390.18003658359754\n",
      "OVERALL BEST RESULT: 309.01180070191356\n"
     ]
    },
    {
     "data": {
      "image/png": "[encoded data removed]",
      "text/plain": [
       "<Figure size 432x288 with 1 Axes>"
      ]
     },
     "metadata": {
      "needs_background": "light"
     },
     "output_type": "display_data"
    }
   ],
   "source": [
    "RUNS = 20\n",
    "\n",
    "distanceMatrix = cm.getLargeDistanceMatrix() ### 15 CITIES\n",
    "cities = 15\n",
    "mutationProbability = 1.0/15.0\n",
    "populationSize = 20\n",
    "generations = 200\n",
    "X = range(generations)\n",
    "RUN_MIN = []\n",
    "RUN_MEAN = []\n",
    "RUN_MAX = []\n",
    "\n",
    "for run in range(RUNS):\n",
    "    population = getInitialPopulation(populationSize, cities, distanceMatrix)\n",
    "    sortPopulation(population)\n",
    "    RUN_MIN.append([])\n",
    "    RUN_MEAN.append([])\n",
    "    RUN_MAX.append([])\n",
    "    for g in range(generations):\n",
    "        matingPool = getMatingPool(populationSize, populationSize, 2)\n",
    "        offspring = getOffspring(population, matingPool, mutationProbability, distanceMatrix)\n",
    "        population += offspring\n",
    "        sortPopulation(population)\n",
    "        new_population = []\n",
    "        for _ in range(populationSize):\n",
    "            new_population.append(population[getTournamentSelection(populationSize, 2)])\n",
    "        population = new_population\n",
    "        sortPopulation(population)\n",
    "        MIN, MEAN, MAX = getStats(population)\n",
    "        RUN_MIN[run].append(MIN)\n",
    "        RUN_MEAN[run].append(MEAN)\n",
    "        RUN_MAX[run].append(MAX)\n",
    "    print(\"RUN {} BEST RESULT: {}\".format(run + 1, min(RUN_MIN[run])))\n",
    "    \n",
    "Y_MIN = [min([RUN_MIN[run][generation] for run in range(RUNS)]) for generation in range(generations)]\n",
    "Y_MEAN = [np.mean([RUN_MEAN[run][generation] for run in range(RUNS)]) for generation in range(generations)]\n",
    "Y_MAX = [max([RUN_MAX[run][generation] for run in range(RUNS)]) for generation in range(generations)]\n",
    "\n",
    "\n",
    "cm.plotConvergence(plt, X, Y_MIN, Y_MEAN, Y_MAX)\n",
    "print(\"OVERALL BEST RESULT: {}\".format(min(Y_MIN)))"
   ]
  },
  {
   "cell_type": "markdown",
   "metadata": {},
   "source": [
    "# Part 3: Impact of different parameter values on the optimization"
   ]
  },
  {
   "cell_type": "markdown",
   "metadata": {},
   "source": [
    "In this exercise, you are asked to check how the method performs when involving different parameter values. Firtly, we wish to plot several convergence plots in a single chart. For this reason, you may copy & paste the cm.plotConvergence function (from common.py) and modify it. Then, copy & paste the code you completed in the previous exercise (the one which averages 20 trial runs). Then: <br>\n",
    "- Firsty, evaluate the performance in terms of different population sizes. Specifically, check how the method performs for the population size = 5, 10, 20, and 50. Display 4 convergence plots in a signle chart. \n",
    "- Secondly, evaluate the performance in terms of different tournament sizes. Specifically, check how the method performs for the tournament size = 1, 2, 5, and 15. Display 4 convergence plots in a signle chart. "
   ]
  },
  {
   "cell_type": "code",
   "execution_count": null,
   "metadata": {},
   "outputs": [],
   "source": [
    "def plotConvergence2(plt, X, Y_MINs, Y_MEANs, Y_MAXs):\n",
    "    ### TODO"
   ]
  },
  {
   "cell_type": "code",
   "execution_count": null,
   "metadata": {},
   "outputs": [],
   "source": [
    "### TODO (POPULATION SIZE)\n"
   ]
  },
  {
   "cell_type": "code",
   "execution_count": null,
   "metadata": {},
   "outputs": [],
   "source": [
    "### TODO (TOURNAMENT SIZE)\n"
   ]
  }
 ],
 "metadata": {
  "kernelspec": {
   "display_name": "Python 3",
   "language": "python",
   "name": "python3"
  },
  "language_info": {
   "codemirror_mode": {
    "name": "ipython",
    "version": 3
   },
   "file_extension": ".py",
   "mimetype": "text/x-python",
   "name": "python",
   "nbconvert_exporter": "python",
   "pygments_lexer": "ipython3",
   "version": "3.7.3"
  }
 },
 "nbformat": 4,
 "nbformat_minor": 4
}
