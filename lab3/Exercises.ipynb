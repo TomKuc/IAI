{
 "cells": [
  {
   "cell_type": "code",
   "execution_count": 1,
   "metadata": {
    "jupyter": {
     "outputs_hidden": true
    }
   },
   "outputs": [],
   "source": [
    "import numpy as np\n",
    "import math\n",
    "import matplotlib.pyplot as plt\n",
    "import pandas as pd\n",
    "import common as cm"
   ]
  },
  {
   "cell_type": "markdown",
   "metadata": {},
   "source": [
    "# Part 1: Information Gain"
   ]
  },
  {
   "cell_type": "markdown",
   "metadata": {},
   "source": [
    "Important note: this exercise uses Pandas (for data manipulation and analysis) and Graphviz (for graph-drawing) libraries. "
   ]
  },
  {
   "cell_type": "markdown",
   "metadata": {},
   "source": [
    "This exercise consists of 3 parts. Complete the first part to get a mark of 3.0, the first two parts to get 4.0, complete all assignments to get 5.0. "
   ]
  },
  {
   "cell_type": "markdown",
   "metadata": {},
   "source": [
    "1.1 ) There are 10 objects (data) characterized with 5 binary attributes:"
   ]
  },
  {
   "cell_type": "code",
   "execution_count": 2,
   "metadata": {
    "jupyter": {
     "outputs_hidden": true
    }
   },
   "outputs": [],
   "source": [
    "attributeNames = [\"attr 1\", \"attr 2\", \"attr 3\", \"attr 4\", \"attr 5\"]\n",
    "\n",
    "data = pd.DataFrame(\n",
    "    [\n",
    "        [1, 0, 1, 1, 1],\n",
    "        [1, 1, 0, 0, 1],\n",
    "        [0, 1, 1, 1, 1],\n",
    "        [1, 0, 1, 0, 1],\n",
    "        [1, 0, 0, 1, 1],\n",
    "        [0, 0, 1, 1, 1],\n",
    "        [1, 1, 1, 1, 1],\n",
    "        [1, 0, 0, 1, 1],\n",
    "        [0, 1, 0, 0, 1],\n",
    "        [0, 0, 0, 1, 1],\n",
    "    ],\n",
    "    columns=attributeNames,\n",
    ")"
   ]
  },
  {
   "cell_type": "markdown",
   "metadata": {},
   "source": [
    "1.2) Each object is assigned to either a class \"0\" or \"1\". The assignments are as follows (cl):"
   ]
  },
  {
   "cell_type": "code",
   "execution_count": 3,
   "metadata": {
    "jupyter": {
     "outputs_hidden": true
    }
   },
   "outputs": [],
   "source": [
    "data[\"cl\"] = [1, 1, 1, 0, 0, 1, 1, 1, 0, 0]"
   ]
  },
  {
   "cell_type": "markdown",
   "metadata": {},
   "source": [
    "Hint: How one can read data (columns) in Pandas:"
   ]
  },
  {
   "cell_type": "code",
   "execution_count": 4,
   "metadata": {
    "jupyter": {
     "outputs_hidden": true
    }
   },
   "outputs": [
    {
     "name": "stdout",
     "output_type": "stream",
     "text": [
      "0    1\n",
      "1    1\n",
      "2    1\n",
      "3    0\n",
      "4    0\n",
      "5    1\n",
      "6    1\n",
      "7    1\n",
      "8    0\n",
      "9    0\n",
      "Name: cl, dtype: int64\n",
      "[1, 1, 1, 0, 0, 1, 1, 1, 0, 0]\n",
      "{0, 1}\n",
      "0    1\n",
      "1    1\n",
      "2    0\n",
      "3    1\n",
      "4    1\n",
      "5    0\n",
      "6    1\n",
      "7    1\n",
      "8    0\n",
      "9    0\n",
      "Name: attr 1, dtype: int64\n"
     ]
    }
   ],
   "source": [
    "print(data[\"cl\"])\n",
    "print(list(data[\"cl\"]))\n",
    "print(set(data[\"cl\"]))\n",
    "print(data[\"attr 1\"])"
   ]
  },
  {
   "cell_type": "markdown",
   "metadata": {},
   "source": [
    "Hint: How split data (Pandas DataFrame) base on column:"
   ]
  },
  {
   "cell_type": "code",
   "execution_count": 5,
   "metadata": {},
   "outputs": [
    {
     "data": {
      "text/html": [
       "<div>\n",
       "<style scoped>\n",
       "    .dataframe tbody tr th:only-of-type {\n",
       "        vertical-align: middle;\n",
       "    }\n",
       "\n",
       "    .dataframe tbody tr th {\n",
       "        vertical-align: top;\n",
       "    }\n",
       "\n",
       "    .dataframe thead th {\n",
       "        text-align: right;\n",
       "    }\n",
       "</style>\n",
       "<table border=\"1\" class=\"dataframe\">\n",
       "  <thead>\n",
       "    <tr style=\"text-align: right;\">\n",
       "      <th></th>\n",
       "      <th>attr 1</th>\n",
       "      <th>attr 2</th>\n",
       "      <th>attr 3</th>\n",
       "      <th>attr 4</th>\n",
       "      <th>attr 5</th>\n",
       "      <th>cl</th>\n",
       "    </tr>\n",
       "  </thead>\n",
       "  <tbody>\n",
       "    <tr>\n",
       "      <th>3</th>\n",
       "      <td>1</td>\n",
       "      <td>0</td>\n",
       "      <td>1</td>\n",
       "      <td>0</td>\n",
       "      <td>1</td>\n",
       "      <td>0</td>\n",
       "    </tr>\n",
       "    <tr>\n",
       "      <th>4</th>\n",
       "      <td>1</td>\n",
       "      <td>0</td>\n",
       "      <td>0</td>\n",
       "      <td>1</td>\n",
       "      <td>1</td>\n",
       "      <td>0</td>\n",
       "    </tr>\n",
       "    <tr>\n",
       "      <th>8</th>\n",
       "      <td>0</td>\n",
       "      <td>1</td>\n",
       "      <td>0</td>\n",
       "      <td>0</td>\n",
       "      <td>1</td>\n",
       "      <td>0</td>\n",
       "    </tr>\n",
       "    <tr>\n",
       "      <th>9</th>\n",
       "      <td>0</td>\n",
       "      <td>0</td>\n",
       "      <td>0</td>\n",
       "      <td>1</td>\n",
       "      <td>1</td>\n",
       "      <td>0</td>\n",
       "    </tr>\n",
       "  </tbody>\n",
       "</table>\n",
       "</div>"
      ],
      "text/plain": [
       "   attr 1  attr 2  attr 3  attr 4  attr 5  cl\n",
       "3       1       0       1       0       1   0\n",
       "4       1       0       0       1       1   0\n",
       "8       0       1       0       0       1   0\n",
       "9       0       0       0       1       1   0"
      ]
     },
     "execution_count": 5,
     "metadata": {},
     "output_type": "execute_result"
    }
   ],
   "source": [
    "data[data['cl']==0]"
   ]
  },
  {
   "cell_type": "markdown",
   "metadata": {},
   "source": [
    "Hint: How take values from column (Pandas Series):"
   ]
  },
  {
   "cell_type": "code",
   "execution_count": 6,
   "metadata": {},
   "outputs": [
    {
     "name": "stdout",
     "output_type": "stream",
     "text": [
      "0 1\n",
      "1 1\n",
      "2 1\n",
      "3 0\n",
      "4 0\n",
      "5 1\n",
      "6 1\n",
      "7 1\n",
      "8 0\n",
      "9 0\n"
     ]
    }
   ],
   "source": [
    "for id, row in data['cl'].items():\n",
    "    print(id,row)"
   ]
  },
  {
   "cell_type": "markdown",
   "metadata": {},
   "source": [
    "1.3 )  Finish the below function for calculating entropy. $H(CL) = - \\sum_{y \\in CL}p(y)log_2p(y)$ It should return a value of entropy for an input vector CL. Assume that $log_2(0)$ is equal to 0."
   ]
  },
  {
   "cell_type": "code",
   "execution_count": 7,
   "metadata": {
    "jupyter": {
     "outputs_hidden": true
    }
   },
   "outputs": [],
   "source": [
    "def getEntropy(cl):\n",
    "    entropy = 0\n",
    "    classes = cl.value_counts()\n",
    "    elements = cl.count()\n",
    "    for y in classes:\n",
    "        p = y / elements\n",
    "        if p != 0:\n",
    "            entropy -= p * math.log(p, 2)\n",
    "    return entropy\n",
    "        "
   ]
  },
  {
   "cell_type": "markdown",
   "metadata": {},
   "source": [
    "1.4 ) Calculate the entropy for the CL vector:"
   ]
  },
  {
   "cell_type": "code",
   "execution_count": 8,
   "metadata": {
    "jupyter": {
     "outputs_hidden": true
    }
   },
   "outputs": [
    {
     "name": "stdout",
     "output_type": "stream",
     "text": [
      "0.9709505944546686\n"
     ]
    }
   ],
   "source": [
    "print(getEntropy(data['cl']))"
   ]
  },
  {
   "cell_type": "markdown",
   "metadata": {},
   "source": [
    "1.5) Finish the below function for calculating a conditional entropy: $H(CL|X) = - \\sum_{x \\in X} \\sum_{y \\in CL} p(x,y) log_2 \\frac{p(x,y)}{p(x)}$. Assume that $log_2(0)$ is equal to 0 and if $p(x) = 0$, $\\frac{p(x,y)}{p(x)}$ is equal to 0 as well."
   ]
  },
  {
   "cell_type": "code",
   "execution_count": 9,
   "metadata": {
    "jupyter": {
     "outputs_hidden": true
    }
   },
   "outputs": [],
   "source": [
    "def getConditionalEntropy(cl, attr):\n",
    "    entropy = 0\n",
    "    data = pd.DataFrame({'cl': cl, 'attr': attr})\n",
    "    elements = data.cl.count()\n",
    "    X_classes = set(data.attr)\n",
    "    Y_classes = set(data.cl)\n",
    "    for x in X_classes:\n",
    "        x_data = data[data.attr == x]\n",
    "        x_elements = x_data.cl.count()\n",
    "        p_x = x_elements / elements\n",
    "        if p_x != 0:\n",
    "            for y in Y_classes:\n",
    "                y_elements = x_data[x_data.cl == y].cl.count()\n",
    "                p_y = y_elements / x_elements\n",
    "                if p_y != 0:\n",
    "                    entropy -= p_x * p_y * math.log(p_y, 2)\n",
    "    return entropy\n",
    "        "
   ]
  },
  {
   "cell_type": "markdown",
   "metadata": {},
   "source": [
    "1.6 ) Calculate conditional entropies for given attribiutes."
   ]
  },
  {
   "cell_type": "code",
   "execution_count": 10,
   "metadata": {
    "jupyter": {
     "outputs_hidden": true
    }
   },
   "outputs": [
    {
     "name": "stdout",
     "output_type": "stream",
     "text": [
      "0.9509775004326937\n",
      "0.9709505944546686\n"
     ]
    }
   ],
   "source": [
    "print(getConditionalEntropy(data[\"cl\"], data[\"attr 1\"]))\n",
    "print(getConditionalEntropy(data[\"cl\"], data[\"attr 5\"]))\n",
    "### print(getConditionalEntropy(pd.Series([1, 0, 1, 0, 0, 1, 0, 0]), pd.Series([1, 1, 0, 0, 0, 1, 0, 1])))\n",
    "### print(getConditionalEntropy(pd.Series([1, 1, 0, 0, 1]), pd.Series([1, 0, 0, 0, 1])))\n",
    "### print(getConditionalEntropy(pd.Series([0, 0, 0]), pd.Series([ 1, 1, 1])))"
   ]
  },
  {
   "cell_type": "markdown",
   "metadata": {},
   "source": [
    "1.7 ) Which entropy is lesser and why?"
   ]
  },
  {
   "cell_type": "markdown",
   "metadata": {},
   "source": [
    "Entropy for attribute 1 is lesser than for attribute 5, because the latter introduces no new information (all values are equal to one) and it's entropy is equal to 'general' entropy."
   ]
  },
  {
   "cell_type": "markdown",
   "metadata": {},
   "source": [
    "1.8) Finish the below function for calculating information gain:"
   ]
  },
  {
   "cell_type": "code",
   "execution_count": 11,
   "metadata": {
    "jupyter": {
     "outputs_hidden": true
    }
   },
   "outputs": [],
   "source": [
    "def getInformationGain(cl, attr):\n",
    "    H_y = getEntropy(cl)\n",
    "    H_x = getConditionalEntropy(cl, attr)\n",
    "    return H_y - H_x"
   ]
  },
  {
   "cell_type": "code",
   "execution_count": 12,
   "metadata": {
    "jupyter": {
     "outputs_hidden": true
    }
   },
   "outputs": [
    {
     "name": "stdout",
     "output_type": "stream",
     "text": [
      "0.01997309402197489\n",
      "0.0\n"
     ]
    }
   ],
   "source": [
    "print(getInformationGain(data[\"cl\"], data[\"attr 1\"]))\n",
    "print(getInformationGain(data[\"cl\"], data[\"attr 5\"]))"
   ]
  },
  {
   "cell_type": "markdown",
   "metadata": {},
   "source": [
    "# Part 2: ID3 algorithm"
   ]
  },
  {
   "cell_type": "markdown",
   "metadata": {},
   "source": [
    "Decision tree consists of decision nodes and leaves. Nodes split data while leaves classify objects. Consider the class \"Node\" provided below. It consists of 4 fields:\n",
    "- attr - attribute ID (use the names in attributeNames vector)\n",
    "- left - left branch, i.e., a reference to other node\n",
    "- right - right branch, i.e., a reference to other node\n",
    "- value - a decision. If node = None, then the node is not a leaf. If value is not None, then a node is considered a leaf. \n",
    "\n",
    "Method __call__ returns the decision if the node is a leaf (i.e., when value is not None). \n",
    "Otherwise, it calls either the left or the right branch of an input object, based on the attribute value (0 -> left children; 1 -> right children). In this way, we can traverse the decision tree in order to find the final decision."
   ]
  },
  {
   "cell_type": "code",
   "execution_count": 13,
   "metadata": {
    "jupyter": {
     "outputs_hidden": true
    }
   },
   "outputs": [
    {
     "name": "stdout",
     "output_type": "stream",
     "text": [
      "3\n",
      "4\n",
      "2\n",
      "2\n"
     ]
    }
   ],
   "source": [
    "class Node:\n",
    "    def __init__(self, attr, left, right, value):\n",
    "        self.attr = attr\n",
    "        self.left = left\n",
    "        self.right = right\n",
    "        self.value = value\n",
    "\n",
    "    def __call__(self, obj):\n",
    "        if self.value is None:\n",
    "            if obj[self.attr] == 0:\n",
    "                return self.left(obj)\n",
    "            else:\n",
    "                return self.right(obj)\n",
    "        else:\n",
    "            return self.value\n",
    "        \n",
    "### EXAMPLE\n",
    "def example(obj):\n",
    "    root = Node(0, None, None, None)\n",
    "    lChildren = Node(1, None, None, None)\n",
    "    rChildren = Node(None, None, None, 2)\n",
    "    root.left = lChildren\n",
    "    root.right = rChildren\n",
    "    llChildren = Node(None, None, None, 3)\n",
    "    rrChildren = Node(None, None, None, 4)\n",
    "    lChildren.left = llChildren\n",
    "    lChildren.right = rrChildren\n",
    "    print(root(obj))\n",
    "    \n",
    "example([0, 0])\n",
    "example([0, 1])\n",
    "example([1, 0])\n",
    "example([1, 1])"
   ]
  },
  {
   "cell_type": "markdown",
   "metadata": {},
   "source": [
    "2.1) Create an initial root. Set the value (decision) to 1. "
   ]
  },
  {
   "cell_type": "code",
   "execution_count": 14,
   "metadata": {
    "jupyter": {
     "outputs_hidden": true
    }
   },
   "outputs": [],
   "source": [
    "root = Node(None, None, None, 1)"
   ]
  },
  {
   "cell_type": "markdown",
   "metadata": {},
   "source": [
    "2.2) Use a getErrorRate method in common.py auxiliary file to calculate the error rate. The decision is made based on the majority rule. In case of tie, the method takes 0 as the default class."
   ]
  },
  {
   "cell_type": "code",
   "execution_count": 15,
   "metadata": {
    "jupyter": {
     "outputs_hidden": true
    }
   },
   "outputs": [
    {
     "data": {
      "text/plain": [
       "0.4"
      ]
     },
     "execution_count": 15,
     "metadata": {},
     "output_type": "execute_result"
    }
   ],
   "source": [
    "cm.getErrorRate(root, data)"
   ]
  },
  {
   "cell_type": "markdown",
   "metadata": {},
   "source": [
    "2.3) Use printGraph method (see the common.py file) to draw the decision tree and save it in a png file."
   ]
  },
  {
   "cell_type": "code",
   "execution_count": 16,
   "metadata": {
    "jupyter": {
     "outputs_hidden": true
    }
   },
   "outputs": [],
   "source": [
    "cm.printGraph(root)"
   ]
  },
  {
   "cell_type": "markdown",
   "metadata": {},
   "source": [
    "2.4) Calculate information gain for all attribiutes."
   ]
  },
  {
   "cell_type": "code",
   "execution_count": 17,
   "metadata": {
    "jupyter": {
     "outputs_hidden": true
    }
   },
   "outputs": [
    {
     "name": "stdout",
     "output_type": "stream",
     "text": [
      "attr 1: 0.01997309402197489\n",
      "attr 2: 0.0464393446710154\n",
      "attr 3: 0.12451124978365313\n",
      "attr 4: 0.09127744624168\n",
      "attr 5: 0.0\n"
     ]
    }
   ],
   "source": [
    "def printInformationGain(data):\n",
    "    for attribute_name in attributeNames:\n",
    "        IG = getInformationGain(data['cl'], data[attribute_name])\n",
    "        print('{}: {}'.format(attribute_name, IG))\n",
    "        \n",
    "printInformationGain(data)"
   ]
  },
  {
   "cell_type": "markdown",
   "metadata": {},
   "source": [
    "2.5) Choose the best attribute to split the data. Construct two new nodes: one for $x_i$ = 0 decision and the second for $x_i$ = 1; connect them with the root (left and right branch). Remember to update the root. "
   ]
  },
  {
   "cell_type": "code",
   "execution_count": 18,
   "metadata": {
    "jupyter": {
     "outputs_hidden": true
    }
   },
   "outputs": [],
   "source": [
    "### attribute 3 provides the best Information Gain\n",
    "\n",
    "### print(data[data['attr 3'] == 0])\n",
    "### majority class = 0\n",
    "\n",
    "### print(data[data['attr 3'] == 1]) \n",
    "### majority class = 1\n",
    "\n",
    "LChild = Node(None, None, None, 0)\n",
    "RChild = Node(None, None, None, 1)\n",
    "\n",
    "root.attr = 'attr 3'\n",
    "root.left = LChild\n",
    "root.right = RChild\n",
    "root.value = None"
   ]
  },
  {
   "cell_type": "markdown",
   "metadata": {},
   "source": [
    "2.6) Print the graph and calculate the error rate. What happened with the error rate?"
   ]
  },
  {
   "cell_type": "code",
   "execution_count": 19,
   "metadata": {
    "jupyter": {
     "outputs_hidden": true
    }
   },
   "outputs": [
    {
     "data": {
      "text/plain": [
       "0.30000000000000004"
      ]
     },
     "execution_count": 19,
     "metadata": {},
     "output_type": "execute_result"
    }
   ],
   "source": [
    "cm.printGraph(root)\n",
    "cm.getErrorRate(root, data)\n",
    "\n",
    "### Error rate decreased from 40% --> 30%"
   ]
  },
  {
   "cell_type": "markdown",
   "metadata": {},
   "source": [
    "2.7) Split the 'data' (table) based on the selected attribiute, i.e., create two new tables."
   ]
  },
  {
   "cell_type": "code",
   "execution_count": 20,
   "metadata": {
    "jupyter": {
     "outputs_hidden": true
    }
   },
   "outputs": [],
   "source": [
    "Ldata = data[data['attr 3'] == 0]\n",
    "Rdata = data[data['attr 3'] == 1]"
   ]
  },
  {
   "cell_type": "markdown",
   "metadata": {},
   "source": [
    "2.8) Let us start with the left node. Firstly, calculate information gain for this node."
   ]
  },
  {
   "cell_type": "code",
   "execution_count": 21,
   "metadata": {
    "jupyter": {
     "outputs_hidden": true
    }
   },
   "outputs": [
    {
     "name": "stdout",
     "output_type": "stream",
     "text": [
      "attr 1: 0.4199730940219748\n",
      "attr 2: 0.01997309402197489\n",
      "attr 3: 0.0\n",
      "attr 4: 0.01997309402197489\n",
      "attr 5: 0.0\n"
     ]
    }
   ],
   "source": [
    "printInformationGain(Ldata)"
   ]
  },
  {
   "cell_type": "markdown",
   "metadata": {},
   "source": [
    "2.9) Choose the best attribute to split the data and then update the decision tree."
   ]
  },
  {
   "cell_type": "code",
   "execution_count": 22,
   "metadata": {
    "jupyter": {
     "outputs_hidden": true
    }
   },
   "outputs": [],
   "source": [
    "### Best atrribute - attr 1 \n",
    "\n",
    "### print(Ldata[Ldata['attr 1'] == 0])\n",
    "### majority class = 0\n",
    "\n",
    "### print(Ldata[Ldata['attr 1'] == 1]) \n",
    "### majority class = 1\n",
    "\n",
    "LLChild = Node(None, None, None, 0)\n",
    "LRChild = Node(None, None, None, 1)\n",
    "\n",
    "LChild.attr = 'attr 1'\n",
    "LChild.left = LLChild\n",
    "LChild.right = LRChild\n",
    "LChild.value = None\n"
   ]
  },
  {
   "cell_type": "markdown",
   "metadata": {},
   "source": [
    "2.10) Print the graph and calculate the error rate. What happened with the error rate?"
   ]
  },
  {
   "cell_type": "code",
   "execution_count": 23,
   "metadata": {
    "jupyter": {
     "outputs_hidden": true
    }
   },
   "outputs": [
    {
     "data": {
      "text/plain": [
       "0.19999999999999996"
      ]
     },
     "execution_count": 23,
     "metadata": {},
     "output_type": "execute_result"
    }
   ],
   "source": [
    "cm.printGraph(root)\n",
    "cm.getErrorRate(root, data)"
   ]
  },
  {
   "cell_type": "markdown",
   "metadata": {},
   "source": [
    "2.11) Split data (remember that we split left_data, not data)."
   ]
  },
  {
   "cell_type": "code",
   "execution_count": 24,
   "metadata": {
    "jupyter": {
     "outputs_hidden": true
    }
   },
   "outputs": [],
   "source": [
    "LLdata = Ldata[Ldata['attr 1'] == 0]\n",
    "LRdata = Ldata[Ldata['attr 1'] == 1]"
   ]
  },
  {
   "cell_type": "markdown",
   "metadata": {},
   "source": [
    "2.12) Repeat the whole process for the right node."
   ]
  },
  {
   "cell_type": "code",
   "execution_count": 25,
   "metadata": {
    "jupyter": {
     "outputs_hidden": true
    }
   },
   "outputs": [
    {
     "name": "stdout",
     "output_type": "stream",
     "text": [
      "attr 1: 0.17095059445466854\n",
      "attr 2: 0.17095059445466854\n",
      "attr 3: 0.0\n",
      "attr 4: 0.7219280948873623\n",
      "attr 5: 0.0\n"
     ]
    }
   ],
   "source": [
    "printInformationGain(Rdata)"
   ]
  },
  {
   "cell_type": "code",
   "execution_count": 26,
   "metadata": {
    "jupyter": {
     "outputs_hidden": true
    }
   },
   "outputs": [],
   "source": [
    "### Best attribute - attr 4\n",
    "\n",
    "### print(Rdata[Rdata['attr 4'] == 0])\n",
    "### majority class = 0\n",
    "\n",
    "### print(Rdata[Rdata['attr 4'] == 1]) \n",
    "### majority class = 1\n",
    "\n",
    "RLChild = Node(None, None, None, 0)\n",
    "RRChild = Node(None, None, None, 1)\n",
    "\n",
    "RChild.attr = 'attr 4'\n",
    "RChild.left = RLChild\n",
    "RChild.right = RRChild\n",
    "RChild.value = None\n"
   ]
  },
  {
   "cell_type": "code",
   "execution_count": 27,
   "metadata": {
    "jupyter": {
     "outputs_hidden": true
    }
   },
   "outputs": [
    {
     "data": {
      "text/plain": [
       "0.09999999999999998"
      ]
     },
     "execution_count": 27,
     "metadata": {},
     "output_type": "execute_result"
    }
   ],
   "source": [
    "cm.printGraph(root)\n",
    "cm.getErrorRate(root, data)"
   ]
  },
  {
   "cell_type": "code",
   "execution_count": 28,
   "metadata": {
    "jupyter": {
     "outputs_hidden": true
    }
   },
   "outputs": [],
   "source": [
    "RLdata = Rdata[Rdata['attr 4'] == 0]\n",
    "RRdata = Rdata[Rdata['attr 4'] == 1]"
   ]
  },
  {
   "cell_type": "markdown",
   "metadata": {},
   "source": [
    "2.13) Let's consider left-left node. Calculate information gain for it."
   ]
  },
  {
   "cell_type": "code",
   "execution_count": 29,
   "metadata": {
    "jupyter": {
     "outputs_hidden": true
    }
   },
   "outputs": [
    {
     "name": "stdout",
     "output_type": "stream",
     "text": [
      "attr 1: 0.0\n",
      "attr 2: 0.0\n",
      "attr 3: 0.0\n",
      "attr 4: 0.0\n",
      "attr 5: 0.0\n"
     ]
    }
   ],
   "source": [
    "printInformationGain(LLdata)"
   ]
  },
  {
   "cell_type": "markdown",
   "metadata": {},
   "source": [
    "2.14) Will adding a new node to the tree improve its effectiveness? Why? Why not?"
   ]
  },
  {
   "cell_type": "markdown",
   "metadata": {},
   "source": [
    "No, because we gain no new information with addition of next nodes."
   ]
  },
  {
   "cell_type": "markdown",
   "metadata": {},
   "source": [
    "2.15) Calculate information gain for the left-right node."
   ]
  },
  {
   "cell_type": "code",
   "execution_count": 30,
   "metadata": {
    "jupyter": {
     "outputs_hidden": true
    }
   },
   "outputs": [
    {
     "name": "stdout",
     "output_type": "stream",
     "text": [
      "attr 1: 0.0\n",
      "attr 2: 0.2516291673878229\n",
      "attr 3: 0.0\n",
      "attr 4: 0.2516291673878229\n",
      "attr 5: 0.0\n"
     ]
    }
   ],
   "source": [
    "printInformationGain(LRdata)"
   ]
  },
  {
   "cell_type": "code",
   "execution_count": 31,
   "metadata": {
    "jupyter": {
     "outputs_hidden": true
    }
   },
   "outputs": [],
   "source": [
    "### Attr 2 and 4 are equal - let's split on attr 2\n",
    "\n",
    "### print(LRdata[LRdata['attr 2'] == 0]) \n",
    "### no majority class - we take majority class of LRChild (1)\n",
    "\n",
    "### print(LRdata[LRdata['attr 2'] == 1]) \n",
    "### majority class = 1\n",
    "\n",
    "LRLChild = Node(None, None, None, 1)\n",
    "LRRChild = Node(None, None, None, 1)\n",
    "\n",
    "LRChild.attr = 'attr 2'\n",
    "LRChild.left = LRLChild\n",
    "LRChild.right = LRRChild\n",
    "LRChild.value = None"
   ]
  },
  {
   "cell_type": "code",
   "execution_count": 32,
   "metadata": {
    "jupyter": {
     "outputs_hidden": true
    }
   },
   "outputs": [
    {
     "data": {
      "text/plain": [
       "0.09999999999999998"
      ]
     },
     "execution_count": 32,
     "metadata": {},
     "output_type": "execute_result"
    }
   ],
   "source": [
    "cm.printGraph(root)\n",
    "cm.getErrorRate(root, data)"
   ]
  },
  {
   "cell_type": "markdown",
   "metadata": {},
   "source": [
    "2.16) What happened with the error rate? Is it necessary to keep these two newly added leaves?"
   ]
  },
  {
   "cell_type": "markdown",
   "metadata": {},
   "source": [
    "Error rate did not decrease, therefore these newly added leaves are unnecessary as they provide no new valuable information."
   ]
  },
  {
   "cell_type": "code",
   "execution_count": 33,
   "metadata": {},
   "outputs": [
    {
     "data": {
      "text/plain": [
       "0.09999999999999998"
      ]
     },
     "execution_count": 33,
     "metadata": {},
     "output_type": "execute_result"
    }
   ],
   "source": [
    "### We can revert changes made in previous step as it does not increase accuracy of our prediction\n",
    "\n",
    "LRChild.attr = None\n",
    "LRChild.left = None\n",
    "LRChild.right = None\n",
    "LRChild.value = 1\n",
    "\n",
    "cm.printGraph(root)\n",
    "cm.getErrorRate(root, data)"
   ]
  },
  {
   "cell_type": "markdown",
   "metadata": {},
   "source": [
    "2.17) Finish creating the right side of the tree"
   ]
  },
  {
   "cell_type": "code",
   "execution_count": 34,
   "metadata": {
    "jupyter": {
     "outputs_hidden": true
    }
   },
   "outputs": [
    {
     "name": "stdout",
     "output_type": "stream",
     "text": [
      "attr 1: 0.0\n",
      "attr 2: 0.0\n",
      "attr 3: 0.0\n",
      "attr 4: 0.0\n",
      "attr 5: 0.0\n"
     ]
    }
   ],
   "source": [
    "printInformationGain(RLdata)\n",
    "### no further split is necessary"
   ]
  },
  {
   "cell_type": "code",
   "execution_count": 35,
   "metadata": {},
   "outputs": [
    {
     "name": "stdout",
     "output_type": "stream",
     "text": [
      "attr 1: 0.0\n",
      "attr 2: 0.0\n",
      "attr 3: 0.0\n",
      "attr 4: 0.0\n",
      "attr 5: 0.0\n"
     ]
    }
   ],
   "source": [
    "printInformationGain(RRdata)\n",
    "### no further split is necessary either"
   ]
  },
  {
   "cell_type": "code",
   "execution_count": 43,
   "metadata": {},
   "outputs": [
    {
     "name": "stdout",
     "output_type": "stream",
     "text": [
      "   attr 1  attr 2  attr 3  attr 4  attr 5  cl\n",
      "8       0       1       0       0       1   0\n",
      "9       0       0       0       1       1   0\n",
      "   attr 1  attr 2  attr 3  attr 4  attr 5  cl\n",
      "1       1       1       0       0       1   1\n",
      "4       1       0       0       1       1   0\n",
      "7       1       0       0       1       1   1\n",
      "   attr 1  attr 2  attr 3  attr 4  attr 5  cl\n",
      "3       1       0       1       0       1   0\n",
      "   attr 1  attr 2  attr 3  attr 4  attr 5  cl\n",
      "0       1       0       1       1       1   1\n",
      "2       0       1       1       1       1   1\n",
      "5       0       0       1       1       1   1\n",
      "6       1       1       1       1       1   1\n"
     ]
    }
   ],
   "source": [
    "### Final Tree:\n",
    "cm.printGraph(root, data, fileName = 'Part2')\n",
    "cm.getErrorRate(root, data)\n",
    "\n",
    "print(LLdata)\n",
    "print(LRdata)\n",
    "print(RLdata)\n",
    "print(RRdata)"
   ]
  },
  {
   "cell_type": "markdown",
   "metadata": {},
   "source": [
    "# Part 3: automated construction of decision trees"
   ]
  },
  {
   "cell_type": "markdown",
   "metadata": {},
   "source": [
    "3.1 Complete the following function for automated construct of decision trees, so that it returns a decision tree for the given data and attribute list. Note that this is a recusive method, i.e., calls itself."
   ]
  },
  {
   "cell_type": "code",
   "execution_count": 38,
   "metadata": {
    "jupyter": {
     "outputs_hidden": true
    }
   },
   "outputs": [],
   "source": [
    "max_depth = 0\n",
    "\n",
    "def createTree(data, attributeNames,par_atr ,depth=0):\n",
    "    data = data.reset_index().drop(\"index\", axis=1)\n",
    "    new_root = Node(None,None,None,par_atr)\n",
    "    attr_ratio = []\n",
    "    for attribute_name in attributeNames:\n",
    "        IG = getInformationGain(data['cl'],data[attribute_name])\n",
    "        attr_ratio.append([attribute_name,IG])\n",
    "    best_attr = max(attr_ratio, key = lambda x: x[1])\n",
    "    max_0 = 0\n",
    "    max_1 = 0\n",
    "    for i in data['cl']:\n",
    "        if i == 0:\n",
    "            max_0 += 1\n",
    "        else:\n",
    "            max_1 += 1\n",
    "    if(max_0<max_1):\n",
    "        new_root.value = 1\n",
    "    else:\n",
    "        new_root.value = 0\n",
    "    if depth <= max_depth and best_attr[1] != 0:\n",
    "        new_root.attr = best_attr[0]\n",
    "        new_root.value = None\n",
    "        \n",
    "        new_left = Node(None,None,None,None)\n",
    "        new_right = Node(None,None,None,None)\n",
    "        \n",
    "        left_data = data[data[best_attr[0]] == 0]\n",
    "        right_data = data[data[best_attr[0]] == 1]\n",
    "        \n",
    "        depth += 1\n",
    "        \n",
    "        new_root.left = createTree(left_data,attributeNames,0,depth)\n",
    "        new_root.right = createTree(right_data,attributeNames,1,depth)\n",
    "    return new_root\n",
    "    \n",
    "cm.printGraph(createTree(data,attributeNames,None),data, fileName='Part3_Example')  "
   ]
  },
  {
   "cell_type": "markdown",
   "metadata": {},
   "source": [
    "3.2) Build a decision tree for a training dataset in the common.py auxiliary file, for diffrent values of max_depth.  Calculate & compare the error rates for training and validation datasets."
   ]
  },
  {
   "cell_type": "code",
   "execution_count": 39,
   "metadata": {
    "jupyter": {
     "outputs_hidden": true
    }
   },
   "outputs": [],
   "source": [
    "max_depth = 10"
   ]
  },
  {
   "cell_type": "code",
   "execution_count": 40,
   "metadata": {
    "jupyter": {
     "outputs_hidden": true
    },
    "scrolled": true
   },
   "outputs": [
    {
     "data": {
      "text/plain": [
       "0.19999999999999996"
      ]
     },
     "execution_count": 40,
     "metadata": {},
     "output_type": "execute_result"
    }
   ],
   "source": [
    "# Training dataset\n",
    "train_attributeNames, train_data = cm.getTrainingDataSet()\n",
    "cm.printGraph(createTree(train_data,train_attributeNames,None),train_data, fileName = 'Part3_Train')\n",
    "cm.getErrorRate(createTree(train_data,train_attributeNames,None),train_data)"
   ]
  },
  {
   "cell_type": "code",
   "execution_count": 41,
   "metadata": {
    "jupyter": {
     "outputs_hidden": true
    },
    "scrolled": false
   },
   "outputs": [
    {
     "data": {
      "text/plain": [
       "0.30000000000000004"
      ]
     },
     "execution_count": 41,
     "metadata": {},
     "output_type": "execute_result"
    }
   ],
   "source": [
    "# Validation dataset\n",
    "valid_attributesName, valid_data = cm.getValidationDataSet()\n",
    "cm.printGraph(createTree(train_data, valid_attributesName, None),valid_data, fileName = 'Part3_Validation')\n",
    "cm.getErrorRate(createTree(train_data,valid_attributesName,None),valid_data)"
   ]
  },
  {
   "cell_type": "markdown",
   "metadata": {},
   "source": [
    "3.3) Consider only the training data set and answer the following questions:\n",
    "* What is the miximum depth of the tree (consider only the training data set)?\n",
    "* The tree building process should stop when there is no improvement in error rate (why?). Check for which value of \"max_dept\" there is no improvement in error rate. "
   ]
  },
  {
   "cell_type": "code",
   "execution_count": 42,
   "metadata": {
    "jupyter": {
     "outputs_hidden": true
    }
   },
   "outputs": [],
   "source": [
    "err_rate = 1\n",
    "best_max_depth = 0\n",
    "for i in range(10):\n",
    "    max_depth = i\n",
    "    x = cm.getErrorRate(createTree(train_data,train_attributeNames,None),train_data)\n",
    "    if x < err_rate:\n",
    "        err_rate = x\n",
    "        best_max_depth = i\n",
    "        continue\n",
    "    else:\n",
    "        max_depth = best_max_depth\n",
    "        cm.printGraph(createTree(train_data,train_attributeNames,None),train_data, fileName = 'Part3_BestTree')\n",
    "        break"
   ]
  },
  {
   "cell_type": "code",
   "execution_count": null,
   "metadata": {
    "jupyter": {
     "outputs_hidden": true
    }
   },
   "outputs": [],
   "source": []
  },
  {
   "cell_type": "code",
   "execution_count": null,
   "metadata": {},
   "outputs": [],
   "source": []
  }
 ],
 "metadata": {
  "kernelspec": {
   "display_name": "Python 3",
   "language": "python",
   "name": "python3"
  },
  "language_info": {
   "codemirror_mode": {
    "name": "ipython",
    "version": 3
   },
   "file_extension": ".py",
   "mimetype": "text/x-python",
   "name": "python",
   "nbconvert_exporter": "python",
   "pygments_lexer": "ipython3",
   "version": "3.7.3"
  },
  "toc-autonumbering": false,
  "toc-showcode": false,
  "toc-showmarkdowntxt": true
 },
 "nbformat": 4,
 "nbformat_minor": 4
}
