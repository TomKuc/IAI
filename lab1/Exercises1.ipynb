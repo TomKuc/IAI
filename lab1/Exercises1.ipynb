{
  "nbformat": 4,
  "nbformat_minor": 0,
  "metadata": {
    "kernelspec": {
      "display_name": "Python 3",
      "language": "python",
      "name": "python3"
    },
    "language_info": {
      "codemirror_mode": {
        "name": "ipython",
        "version": 3
      },
      "file_extension": ".py",
      "mimetype": "text/x-python",
      "name": "python",
      "nbconvert_exporter": "python",
      "pygments_lexer": "ipython3",
      "version": "3.7.2"
    },
    "widgets": {
      "state": {},
      "version": "1.1.2"
    },
    "colab": {
      "name": "Exercises1.ipynb",
      "provenance": [],
      "collapsed_sections": []
    }
  },
  "cells": [
    {
      "cell_type": "markdown",
      "metadata": {
        "id": "DNZ5atPaxfiY",
        "colab_type": "text"
      },
      "source": [
        "# K-MEANS ALGORITHM"
      ]
    },
    {
      "cell_type": "markdown",
      "metadata": {
        "id": "ZeUb84b-xfij",
        "colab_type": "text"
      },
      "source": [
        "This exercise consists of three parts. Finish the first part to get a mark of 3.0; the first two parts for 4.0. Complete all three parts to get 5.0."
      ]
    },
    {
      "cell_type": "markdown",
      "metadata": {
        "id": "Q197PfDhxfip",
        "colab_type": "text"
      },
      "source": [
        "## Part 1"
      ]
    },
    {
      "cell_type": "code",
      "metadata": {
        "id": "M4ZS1vpmxfiv",
        "colab_type": "code",
        "colab": {}
      },
      "source": [
        "### SOME IMPORTS\n",
        "import common as cm\n",
        "import numpy as np\n",
        "import matplotlib.pyplot as plt"
      ],
      "execution_count": 0,
      "outputs": []
    },
    {
      "cell_type": "markdown",
      "metadata": {
        "id": "feshatlkxfjR",
        "colab_type": "text"
      },
      "source": [
        "1.1) Complete the following distance function"
      ]
    },
    {
      "cell_type": "code",
      "metadata": {
        "id": "ZOG6LK4ZxfjX",
        "colab_type": "code",
        "outputId": "41867cec-af39-4198-bd6d-af3aa80554cc",
        "colab": {
          "base_uri": "https://localhost:8080/",
          "height": 54
        }
      },
      "source": [
        "# Computes a Euclidean distance between points A and B (these are vectors, i.e., A[0], A[1], ....)\n",
        "def getEuclideanDistance(A, B):\n",
        "    distance = 0\n",
        "    for index in range(len(A)):\n",
        "      distance += (A[index] + B[index])**2\n",
        "    return distance**0.5\n",
        "\n",
        "    \n",
        "### TEST\n",
        "print(getEuclideanDistance([0.0, 0.0], [0.0, 1.0]))\n",
        "print(getEuclideanDistance([0.0, 0.0], [1.0, 1.0]))"
      ],
      "execution_count": 0,
      "outputs": [
        {
          "output_type": "stream",
          "text": [
            "1.0\n",
            "1.4142135623730951\n"
          ],
          "name": "stdout"
        }
      ]
    },
    {
      "cell_type": "markdown",
      "metadata": {
        "id": "a-k4up5-xfjs",
        "colab_type": "text"
      },
      "source": [
        "1.2) Get test data set & display (data = matrix n x m, n = the number of objects, m = the number of attributes)"
      ]
    },
    {
      "cell_type": "code",
      "metadata": {
        "id": "vD8HZLAyxfjx",
        "colab_type": "code",
        "colab": {
          "base_uri": "https://localhost:8080/",
          "height": 507
        },
        "outputId": "e73c5e94-d8a4-4863-8338-663760ea8833"
      },
      "source": [
        "data = cm.getTestDataSet()\n",
        "cm.displayDataSet(plt, data) #plt = plot package; see the imports above"
      ],
      "execution_count": 8,
      "outputs": [
        {
          "output_type": "display_data",
          "data": {
            "image/png": "[encoded data removed]",
            "text/plain": [
              "<Figure size 500x500 with 1 Axes>"
            ]
          },
          "metadata": {
            "tags": []
          }
        }
      ]
    },
    {
      "cell_type": "markdown",
      "metadata": {
        "id": "nL_niIV9xfj9",
        "colab_type": "text"
      },
      "source": [
        "How many different clusters (groups) do you see here?"
      ]
    },
    {
      "cell_type": "markdown",
      "metadata": {
        "id": "zi-xfEuLxfj_",
        "colab_type": "text"
      },
      "source": [
        "The data for this exercise was generated artificially. You can run the below code to see the \"true\" group assignment."
      ]
    },
    {
      "cell_type": "code",
      "metadata": {
        "id": "irSO19kUxfkZ",
        "colab_type": "code",
        "colab": {
          "base_uri": "https://localhost:8080/",
          "height": 507
        },
        "outputId": "285d90bc-a134-44a8-a1a4-5e91f43d5193"
      },
      "source": [
        "data = cm.getTestDataSet()\n",
        "assignments = cm.getTestAssignments() ### GET \"TRUE\" GROUP ASSIGNMENT\n",
        "cm.displayDataSet(plt, data, assignments = assignments)"
      ],
      "execution_count": 9,
      "outputs": [
        {
          "output_type": "display_data",
          "data": {
            "image/png": "[encoded data removed]",
            "text/plain": [
              "<Figure size 500x500 with 1 Axes>"
            ]
          },
          "metadata": {
            "tags": []
          }
        }
      ]
    },
    {
      "cell_type": "markdown",
      "metadata": {
        "id": "JjTqcoBBxfkz",
        "colab_type": "text"
      },
      "source": [
        "1.3) K-Means implementation: Firstly, we need to construct K \"centroids\". Each centroid represents one group. For simplicity, initially assume that the centroids are randomly selected from the data set (i.e., clone/copy some K random points from data set). Check numpy.random package. Important: each centroid should be unique (no repetitions, consider a \"shuffle\" approach). Finish the bolow code."
      ]
    },
    {
      "cell_type": "code",
      "metadata": {
        "id": "y9M3X1FZxfk5",
        "colab_type": "code",
        "colab": {
          "base_uri": "https://localhost:8080/",
          "height": 35
        },
        "outputId": "17a28be7-6b53-4473-cbb1-cb6dda5733bd"
      },
      "source": [
        "### return a vector of centroids (vectors) [[x1, y1], ..., [xk, yk]]\n",
        "def getCentroids(K, data):\n",
        "    centroids = data[:]\n",
        "    np.random.shuffle(centroids)\n",
        "    return centroids[:K]\n",
        "\n",
        "print(getCentroids(2, data))"
      ],
      "execution_count": 12,
      "outputs": [
        {
          "output_type": "stream",
          "text": [
            "[[0.7454896351059094, 0.17525988403680184], [0.19172412491037502, 0.7978150101452778]]\n"
          ],
          "name": "stdout"
        }
      ]
    },
    {
      "cell_type": "markdown",
      "metadata": {
        "id": "6ak8DxuZxflJ",
        "colab_type": "text"
      },
      "source": [
        "1.4) Get acquainted with some parameters: \n",
        "- DATA - test data set, a vector of  n 2d points: [[x1, y1], ..., [xn, yn]], loaded from common.py\n",
        "- M - the number of attributes/dimensions; M = 2 for this exercise,\n",
        "- K - expected number of groups,\n",
        "- CENTROIDS - initial K centroids; CENTROIDS =  [[x1, y1],...,[xk, yk]],\n",
        "- ASSIGNMENTS - data structure representing group assignments; ASSIGNMENTS = [[idx1_1,...,],....,[idx1_K,....]], i.e., i-th element is a vector of indexes of corresponding data points in DATA, being assigned to i-th group. For instance if |DATA| = 3, K = 2, and ASSIGNMENTS = [[0, 2], [1]], it means that DATA[0] and DATA[2] points are assigned to the first group, while DATA[1] point is assigned to the second group."
      ]
    },
    {
      "cell_type": "markdown",
      "metadata": {
        "id": "xsIJq7x6xflS",
        "colab_type": "text"
      },
      "source": [
        "1.5) Finish the below function. It should perform a single step of K-Means algorithm:\n",
        "\n",
        "a) Firstly, construct new group assignments. For this reason, iterate over all data points. For each (i-th) point, verify its distance to each (k-th) centroid. Check for which centroid the distance is the smallest and update NEW_ASSIGNMENTS adequately (NEW_ASSIGNMENTS[k-th centroid].append(i-th index/data point)).\n",
        "\n",
        "Important: NO_CHANGE boolean variable should be set to False if the assignments have changed from the previous iteration to the current one (NEW_ASSIGNMENTS != (OLD) ASSIGNMENTS). \n",
        "\n",
        "b) Update centroids (NEW_CENTROIDS), i.e., compute centers of masses of data points belonging to different groups. \n",
        "\n",
        "c) Return NO_CHANGE, NEW_ASSIGNMENTS, NEW_CENTROIDS."
      ]
    },
    {
      "cell_type": "code",
      "metadata": {
        "id": "EKyYQzVAxflU",
        "colab_type": "code",
        "colab": {}
      },
      "source": [
        "def getNewCentroid(DATA, M):\n",
        "    N = len(DATA)\n",
        "    centroid = [] * M\n",
        "    for point_index in range(L):\n",
        "      for attribute in range(M):\n",
        "        centroid[M] += DATA[point_index][attribute]\n",
        "    return [value/N for value in centroid]\n",
        "      \n",
        "\n",
        "def doKMeansStep(DATA, M, K, CENTROIDS, ASSIGNMENTS):\n",
        "    N = len(DATA)    \n",
        "    NO_CHANGE = True\n",
        "    if ASSIGNMENTS is None: NO_CHANGE = False\n",
        "    #TODO\n",
        "    \n",
        "    ### CONSTRUCT NEW ASSIGNMENTS\n",
        "    NEW_ASSIGNMENTS = [[] for k in range(K)]\n",
        "    for point_index in range(N):\n",
        "      new_centroid_index = None\n",
        "      for centroid_index in range(K):\n",
        "        if new_centroid_index:\n",
        "          if getEuclideanDistance(DATA[point_index], CENTROIDS[centroid_index]) < getEuclideanDistance(DATA[point_index], CENTROIDS[new_centroid_index]):\n",
        "            new_centroid_index = centroid_index\n",
        "        else:\n",
        "          new_centroid_index = centroid_index\n",
        "      NEW_ASSIGNMENTS[new_centroid_index].append(point_index)\n",
        "      \n",
        "\n",
        "    ### CONSTRUCT NEW CENTROIDS\n",
        "    NEW_CENTROIDS = []\n",
        "      \n",
        "    \n",
        "    return NO_CHANGE, NEW_CENTROIDS, NEW_ASSIGNMENTS "
      ],
      "execution_count": 0,
      "outputs": []
    },
    {
      "cell_type": "markdown",
      "metadata": {
        "id": "NIlkOG-fxfld",
        "colab_type": "text"
      },
      "source": [
        "1.6) The below code performs 1 iteration of K-Menas algorithm for K=2 and the test data set. Check the results (notice that centroids are marked with squares)."
      ]
    },
    {
      "cell_type": "code",
      "metadata": {
        "id": "0bXLyHI9xflm",
        "colab_type": "code",
        "colab": {
          "base_uri": "https://localhost:8080/",
          "height": 507
        },
        "outputId": "7b3369f4-6161-4c59-8ca2-8867bc225dad"
      },
      "source": [
        "DATA = cm.getTestDataSet()\n",
        "CENTROIDS = getCentroids(2, DATA)\n",
        "NO_CHANGE, CENTROIDS, ASSIGNMENTS = doKMeansStep(DATA, 2, 2, CENTROIDS.copy(), None)\n",
        "cm.displayDataSet(plt, DATA, assignments = ASSIGNMENTS, centroids = CENTROIDS)"
      ],
      "execution_count": 19,
      "outputs": [
        {
          "output_type": "display_data",
          "data": {
            "image/png": "[encoded data removed]",
            "text/plain": [
              "<Figure size 500x500 with 1 Axes>"
            ]
          },
          "metadata": {
            "tags": []
          }
        }
      ]
    },
    {
      "cell_type": "markdown",
      "metadata": {
        "id": "5yAyF9_nxfl9",
        "colab_type": "text"
      },
      "source": [
        "1.7) Complete the below piece of code. The doKMeans function should perform 100 steps of K-Means algorithm. However, the loop should be stopped when the NO_CHANGE variable = True. It that is so, print the information on after how many iterations the process has stopped. Lastly, use cm.displayDataSet to depict the final groups (if display = True). "
      ]
    },
    {
      "cell_type": "code",
      "metadata": {
        "id": "W6hPLPZ4xfmA",
        "colab_type": "code",
        "colab": {}
      },
      "source": [
        "def doKMeans(DATA, CENTROIDS, K = 2, M = 2, display = True):\n",
        "    ASSIGNMENTS = [[] for i in range(K)]  \n",
        "    for i in range(100):\n",
        "        ### TODO\n",
        "        \n",
        "    return DATA, CENTROIDS, ASSIGNMENTS   \n",
        "\n",
        "DATA = cm.getTestDataSet()\n",
        "CENTROIDS = getCentroids(2, DATA)\n",
        "DATA, CENTROIDS, ASSIGNMENTS = doKMeans(DATA, CENTROIDS, K = 2)"
      ],
      "execution_count": 0,
      "outputs": []
    },
    {
      "cell_type": "markdown",
      "metadata": {
        "id": "n-BU7uhbxfmN",
        "colab_type": "text"
      },
      "source": [
        "1.8) Perform the below piece of code and observe the results. Which K is seems to be the best choice?"
      ]
    },
    {
      "cell_type": "code",
      "metadata": {
        "id": "tSLY4RhbxfmR",
        "colab_type": "code",
        "colab": {}
      },
      "source": [
        "DATA = cm.getTestDataSet()\n",
        "for k in range(2, 11):\n",
        "    CENTROIDS = getCentroids(k, DATA)\n",
        "    DATA, NEW_CENTROIDS, NEW_ASSIGNMENTS = doKMeans(DATA, CENTROIDS, K = k)"
      ],
      "execution_count": 0,
      "outputs": []
    },
    {
      "cell_type": "markdown",
      "metadata": {
        "id": "Ne6q2fSFxfmc",
        "colab_type": "text"
      },
      "source": [
        "## Part 2"
      ]
    },
    {
      "cell_type": "markdown",
      "metadata": {
        "id": "GxouejDVxfmg",
        "colab_type": "text"
      },
      "source": [
        "The quality of final group assignment can be assessed in various ways. In this exercise, you are asked to compute a total (sum) distance between data points and their cluster centroids for different values of K. Obviously, it is expected that such indicator will always decrese with the increase of K. But, obviously, $K=\\infty$ is not the best option. However, there exsits some threshold K' such that for each K'' > K' the decrease will not be significant. This threshold is called an \"elbow\" and its corresponding K value is considered satisfactory. Firstly, complete the below function. It should compute the total (sum) distance between data points and their cluster centroids. Secondly, compute the the total distances for final clusters for for $K\\in [2, 10]$. Then, plot the results. Use cm.displayResults(plt, results), where results takes the follwoing form: [[2, result for K = 2], [3, result for K = 3], ..., [10, result for K = 10]]. Find the \"elbow\"."
      ]
    },
    {
      "cell_type": "code",
      "metadata": {
        "id": "aj6qdyT0xfmj",
        "colab_type": "code",
        "colab": {}
      },
      "source": [
        "def getTotalDistance(DATA, CENTROIDS, ASSIGNMENTS):\n",
        "    #TODO\n",
        "    return 0.0"
      ],
      "execution_count": 0,
      "outputs": []
    },
    {
      "cell_type": "code",
      "metadata": {
        "id": "8P54JK2Yxfmr",
        "colab_type": "code",
        "colab": {}
      },
      "source": [
        "### PERFORM THE ANALYSIS HERE"
      ],
      "execution_count": 0,
      "outputs": []
    },
    {
      "cell_type": "markdown",
      "metadata": {
        "id": "jL-cJNqixfm1",
        "colab_type": "text"
      },
      "source": [
        "# Part 3 - a small case study"
      ]
    },
    {
      "cell_type": "markdown",
      "metadata": {
        "id": "WidOLZO5xfm3",
        "colab_type": "text"
      },
      "source": [
        "In this exercise you are asked to use K-Means algorithm to cluster some data provided in cm.getCaseDataSet() (important note, this data was generated artificially - this is not real-world data). This data contains information on 250 persons. Each person is characterized with the following attributes:\n",
        "\n",
        "a) Age <br>\n",
        "b) Salary (zł) <br> \n",
        "c) Health index (0-100; 0 = worst health, 100 = best health) <br>\n",
        "d) Time spent in school or work (hours) <br>\n",
        "e) Time spent on sport activities (hours) <br>\n",
        "\n",
        "Firstly, load the data. Secondly, check the min and max values for each attribute and consider normalization. Thirdly, run K-Means algorithm (use the pieces of code you completed in previous exercises) for different K. Fourthly, identify the best K using the performance indicator introduced in Part 2. Lastly - for the best K - analyze constructed clusters. Your can, e.g., generate distribution plots or simply compute mean attribute values within each cluster. For this reason, you can use centroids constructed in the final iteration. Characterize/describe the clusters."
      ]
    },
    {
      "cell_type": "code",
      "metadata": {
        "id": "lw0ABnHgxfm6",
        "colab_type": "code",
        "colab": {}
      },
      "source": [
        "DATA = cm.getCaseDataSet()"
      ],
      "execution_count": 0,
      "outputs": []
    },
    {
      "cell_type": "code",
      "metadata": {
        "id": "wY84T326xfnF",
        "colab_type": "code",
        "colab": {}
      },
      "source": [
        "### CONSIDER NORMALIZATION HERE"
      ],
      "execution_count": 0,
      "outputs": []
    },
    {
      "cell_type": "code",
      "metadata": {
        "id": "y2ucrpvNxfnL",
        "colab_type": "code",
        "colab": {}
      },
      "source": [
        " def doKMeans_CaseStudy(DATA, K = 2, M = 5):\n",
        "    CENTROIDS = getCentroids(K, DATA) # GET CENTOIDS\n",
        "    ASSIGNMENTS = [[] for i in range(K)] # \n",
        "    ### TODO\n",
        "    return DATA, CENTROIDS, ASSIGNMENTS \n",
        "\n",
        "DATA_N, CENTROIDS, ASSIGNMENTS = doKMeans_CaseStudy(DATA_N, K = 2)"
      ],
      "execution_count": 0,
      "outputs": []
    },
    {
      "cell_type": "code",
      "metadata": {
        "id": "pEJ4peUDxfnU",
        "colab_type": "code",
        "colab": {}
      },
      "source": [
        "### DO THE ANALYSIS HERE (FIND ELBOW)"
      ],
      "execution_count": 0,
      "outputs": []
    },
    {
      "cell_type": "code",
      "metadata": {
        "id": "VtHRUxPQxfnb",
        "colab_type": "code",
        "colab": {}
      },
      "source": [
        "### DISPLAY - SUMMARIZE - STATS FOR THE BEST K FOUND IN THE PREVIOUS STEP"
      ],
      "execution_count": 0,
      "outputs": []
    }
  ]
}